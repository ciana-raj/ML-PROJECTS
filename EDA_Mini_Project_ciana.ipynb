{
 "cells": [
  {
   "cell_type": "markdown",
   "metadata": {},
   "source": [
    "<h1 class=\"list-group-item list-group-item-action active\" data-toggle=\"list\"  role=\"tab\" aria-controls=\"home\">Exploratory Data Analysis Mini Project </h1>\n",
    "     \n"
   ]
  },
  {
   "cell_type": "code",
   "execution_count": 162,
   "metadata": {},
   "outputs": [],
   "source": [
    "#IMPORTING THE LIBRARIES NEEDED"
   ]
  },
  {
   "cell_type": "code",
   "execution_count": 2,
   "metadata": {},
   "outputs": [],
   "source": [
    "import numpy as np\n",
    "import pandas as pd\n",
    "import matplotlib.pyplot as plt\n",
    "import seaborn as sns\n",
    "import warnings\n",
    "warnings.filterwarnings('ignore')"
   ]
  },
  {
   "cell_type": "markdown",
   "metadata": {},
   "source": [
    "<h4 class=\"list-group-item list-group-item-action active\" >1. DESCRIPTIVE STATISTICS</h4>\n",
    "\n",
    ">#### 1. Create a dataframe using below data and answer the below questions:\n",
    "\n",
    "        Hourly_Income = [1000,2009,24418,444478,324235,243242,3434234,7567457,9235,238237,1312,3412]\n",
    "        Hourly_Expense =  [651361,217371,2746,2356,13436,5732,346346,3463,1132,23534,242235,235235]\n",
    "        family_members_count = [3,4,2,3,1,4,5,6,3,6,3,5]\n",
    "        House_rent = [1299,2300,3411,3422,4566,4211,4600,736,672,0,734,2374]\n",
    "        Highest_income_Member = [\"Olivia\",\"George\",\"Isla\",\"Harry\",\"Ava\",\"Noah\",\"Sophia\",\"Jacobi\",\"Freddie\",\"Ella\",\"Grace\",\"Ella\"]\n",
    "        \n",
    "        \n",
    ">##### A. Display the five point summary of the data. \n",
    ">##### B. What is the mean of the hourly expense?\n",
    ">##### C. What is the median of the hourly expense?\n",
    ">##### D. Find the family member with maximum income and using a suitable graph.\n",
    ">##### E. Calculate IQR(the difference between 75% and 25% quartile) for `Hourly_Income` and `Hourly_Expense`.\n",
    ">##### F. Calculate the standard deviation for first 2 columns.\n",
    ">##### G. Calculate variance for the first 4 columns"
   ]
  },
  {
   "cell_type": "code",
   "execution_count": 1,
   "metadata": {},
   "outputs": [],
   "source": [
    "import numpy as np\n",
    "import pandas as pd\n",
    "import matplotlib.pyplot as plt\n",
    "import seaborn as sns\n",
    "import warnings\n",
    "warnings.filterwarnings('ignore')\n",
    "from scipy.stats import zscore\n",
    "import matplotlib.collections as collections"
   ]
  },
  {
   "cell_type": "markdown",
   "metadata": {},
   "source": [
    "### CREATING THE DATAFRAME "
   ]
  },
  {
   "cell_type": "code",
   "execution_count": 46,
   "metadata": {},
   "outputs": [
    {
     "data": {
      "text/html": [
       "<div>\n",
       "<style scoped>\n",
       "    .dataframe tbody tr th:only-of-type {\n",
       "        vertical-align: middle;\n",
       "    }\n",
       "\n",
       "    .dataframe tbody tr th {\n",
       "        vertical-align: top;\n",
       "    }\n",
       "\n",
       "    .dataframe thead th {\n",
       "        text-align: right;\n",
       "    }\n",
       "</style>\n",
       "<table border=\"1\" class=\"dataframe\">\n",
       "  <thead>\n",
       "    <tr style=\"text-align: right;\">\n",
       "      <th></th>\n",
       "      <th>Hourly_Income</th>\n",
       "      <th>Hourly_Expense</th>\n",
       "      <th>family_members_count</th>\n",
       "      <th>House_rent</th>\n",
       "      <th>Highest_income_Member</th>\n",
       "    </tr>\n",
       "  </thead>\n",
       "  <tbody>\n",
       "    <tr>\n",
       "      <th>0</th>\n",
       "      <td>1000</td>\n",
       "      <td>651361</td>\n",
       "      <td>3</td>\n",
       "      <td>1299</td>\n",
       "      <td>Olivia</td>\n",
       "    </tr>\n",
       "    <tr>\n",
       "      <th>1</th>\n",
       "      <td>2009</td>\n",
       "      <td>217371</td>\n",
       "      <td>4</td>\n",
       "      <td>2300</td>\n",
       "      <td>George</td>\n",
       "    </tr>\n",
       "    <tr>\n",
       "      <th>2</th>\n",
       "      <td>24418</td>\n",
       "      <td>2746</td>\n",
       "      <td>2</td>\n",
       "      <td>3411</td>\n",
       "      <td>Isla</td>\n",
       "    </tr>\n",
       "    <tr>\n",
       "      <th>3</th>\n",
       "      <td>444478</td>\n",
       "      <td>2356</td>\n",
       "      <td>3</td>\n",
       "      <td>3422</td>\n",
       "      <td>Harry</td>\n",
       "    </tr>\n",
       "    <tr>\n",
       "      <th>4</th>\n",
       "      <td>324235</td>\n",
       "      <td>13436</td>\n",
       "      <td>1</td>\n",
       "      <td>4566</td>\n",
       "      <td>Ava</td>\n",
       "    </tr>\n",
       "    <tr>\n",
       "      <th>5</th>\n",
       "      <td>243242</td>\n",
       "      <td>5732</td>\n",
       "      <td>4</td>\n",
       "      <td>4211</td>\n",
       "      <td>Noah</td>\n",
       "    </tr>\n",
       "    <tr>\n",
       "      <th>6</th>\n",
       "      <td>3434234</td>\n",
       "      <td>346346</td>\n",
       "      <td>5</td>\n",
       "      <td>4600</td>\n",
       "      <td>Sophia</td>\n",
       "    </tr>\n",
       "    <tr>\n",
       "      <th>7</th>\n",
       "      <td>7567457</td>\n",
       "      <td>3463</td>\n",
       "      <td>6</td>\n",
       "      <td>736</td>\n",
       "      <td>Jacobi</td>\n",
       "    </tr>\n",
       "    <tr>\n",
       "      <th>8</th>\n",
       "      <td>9235</td>\n",
       "      <td>1132</td>\n",
       "      <td>3</td>\n",
       "      <td>672</td>\n",
       "      <td>Freddie</td>\n",
       "    </tr>\n",
       "    <tr>\n",
       "      <th>9</th>\n",
       "      <td>238237</td>\n",
       "      <td>23534</td>\n",
       "      <td>6</td>\n",
       "      <td>0</td>\n",
       "      <td>Ella</td>\n",
       "    </tr>\n",
       "    <tr>\n",
       "      <th>10</th>\n",
       "      <td>1312</td>\n",
       "      <td>242235</td>\n",
       "      <td>3</td>\n",
       "      <td>734</td>\n",
       "      <td>Grace</td>\n",
       "    </tr>\n",
       "    <tr>\n",
       "      <th>11</th>\n",
       "      <td>3412</td>\n",
       "      <td>235235</td>\n",
       "      <td>5</td>\n",
       "      <td>2374</td>\n",
       "      <td>Ella</td>\n",
       "    </tr>\n",
       "  </tbody>\n",
       "</table>\n",
       "</div>"
      ],
      "text/plain": [
       "    Hourly_Income  Hourly_Expense  family_members_count  House_rent  \\\n",
       "0            1000          651361                     3        1299   \n",
       "1            2009          217371                     4        2300   \n",
       "2           24418            2746                     2        3411   \n",
       "3          444478            2356                     3        3422   \n",
       "4          324235           13436                     1        4566   \n",
       "5          243242            5732                     4        4211   \n",
       "6         3434234          346346                     5        4600   \n",
       "7         7567457            3463                     6         736   \n",
       "8            9235            1132                     3         672   \n",
       "9          238237           23534                     6           0   \n",
       "10           1312          242235                     3         734   \n",
       "11           3412          235235                     5        2374   \n",
       "\n",
       "   Highest_income_Member  \n",
       "0                 Olivia  \n",
       "1                 George  \n",
       "2                   Isla  \n",
       "3                  Harry  \n",
       "4                    Ava  \n",
       "5                   Noah  \n",
       "6                 Sophia  \n",
       "7                 Jacobi  \n",
       "8                Freddie  \n",
       "9                   Ella  \n",
       "10                 Grace  \n",
       "11                  Ella  "
      ]
     },
     "execution_count": 46,
     "metadata": {},
     "output_type": "execute_result"
    }
   ],
   "source": [
    "# assign data of lists.  \n",
    "data = {'Hourly_Income': [1000,2009,24418,444478,324235,243242,3434234,7567457,9235,238237,1312,3412],\n",
    "        'Hourly_Expense' :[651361,217371,2746,2356,13436,5732,346346,3463,1132,23534,242235,235235],\n",
    "        'family_members_count': [3,4,2,3,1,4,5,6,3,6,3,5],\n",
    "        'House_rent':[1299,2300,3411,3422,4566,4211,4600,736,672,0,734,2374],\n",
    "        'Highest_income_Member': [\"Olivia\",\"George\",\"Isla\",\"Harry\",\"Ava\",\"Noah\",\"Sophia\",\"Jacobi\",\"Freddie\",\"Ella\",\"Grace\",\"Ella\"]\n",
    "        }  \n",
    "  \n",
    "# Create DataFrame  \n",
    "df = pd.DataFrame(data) \n",
    "  \n",
    "# Print the output.  \n",
    "df"
   ]
  },
  {
   "cell_type": "markdown",
   "metadata": {},
   "source": [
    ">##### A. Display the five point summary of the data. "
   ]
  },
  {
   "cell_type": "markdown",
   "metadata": {},
   "source": [
    "#### The five-number summary involves the calculation of 5 summary statistical quantities: namely:\n",
    "\n",
    "##### Median: The middle value in the sample, also called the 50th percentile or the 2nd quartile.\n",
    "##### 1st Quartile: The 25th percentile.\n",
    "##### 3rd Quartile: The 75th percentile.\n",
    "##### Minimum: The smallest observation in the sample.\n",
    "##### Maximum: The largest observation in the sample.\n"
   ]
  },
  {
   "cell_type": "code",
   "execution_count": 47,
   "metadata": {},
   "outputs": [
    {
     "data": {
      "text/html": [
       "<div>\n",
       "<style scoped>\n",
       "    .dataframe tbody tr th:only-of-type {\n",
       "        vertical-align: middle;\n",
       "    }\n",
       "\n",
       "    .dataframe tbody tr th {\n",
       "        vertical-align: top;\n",
       "    }\n",
       "\n",
       "    .dataframe thead th {\n",
       "        text-align: right;\n",
       "    }\n",
       "</style>\n",
       "<table border=\"1\" class=\"dataframe\">\n",
       "  <thead>\n",
       "    <tr style=\"text-align: right;\">\n",
       "      <th></th>\n",
       "      <th>Hourly_Income</th>\n",
       "      <th>Hourly_Expense</th>\n",
       "      <th>family_members_count</th>\n",
       "      <th>House_rent</th>\n",
       "    </tr>\n",
       "  </thead>\n",
       "  <tbody>\n",
       "    <tr>\n",
       "      <th>count</th>\n",
       "      <td>1.200000e+01</td>\n",
       "      <td>12.000000</td>\n",
       "      <td>12.000000</td>\n",
       "      <td>12.000000</td>\n",
       "    </tr>\n",
       "    <tr>\n",
       "      <th>mean</th>\n",
       "      <td>1.024439e+06</td>\n",
       "      <td>145412.250000</td>\n",
       "      <td>3.750000</td>\n",
       "      <td>2360.416667</td>\n",
       "    </tr>\n",
       "    <tr>\n",
       "      <th>std</th>\n",
       "      <td>2.274083e+06</td>\n",
       "      <td>202831.565333</td>\n",
       "      <td>1.544786</td>\n",
       "      <td>1661.663813</td>\n",
       "    </tr>\n",
       "    <tr>\n",
       "      <th>min</th>\n",
       "      <td>1.000000e+03</td>\n",
       "      <td>1132.000000</td>\n",
       "      <td>1.000000</td>\n",
       "      <td>0.000000</td>\n",
       "    </tr>\n",
       "    <tr>\n",
       "      <th>25%</th>\n",
       "      <td>3.061250e+03</td>\n",
       "      <td>3283.750000</td>\n",
       "      <td>3.000000</td>\n",
       "      <td>735.500000</td>\n",
       "    </tr>\n",
       "    <tr>\n",
       "      <th>50%</th>\n",
       "      <td>1.313275e+05</td>\n",
       "      <td>18485.000000</td>\n",
       "      <td>3.500000</td>\n",
       "      <td>2337.000000</td>\n",
       "    </tr>\n",
       "    <tr>\n",
       "      <th>75%</th>\n",
       "      <td>3.542958e+05</td>\n",
       "      <td>236985.000000</td>\n",
       "      <td>5.000000</td>\n",
       "      <td>3619.250000</td>\n",
       "    </tr>\n",
       "    <tr>\n",
       "      <th>max</th>\n",
       "      <td>7.567457e+06</td>\n",
       "      <td>651361.000000</td>\n",
       "      <td>6.000000</td>\n",
       "      <td>4600.000000</td>\n",
       "    </tr>\n",
       "  </tbody>\n",
       "</table>\n",
       "</div>"
      ],
      "text/plain": [
       "       Hourly_Income  Hourly_Expense  family_members_count   House_rent\n",
       "count   1.200000e+01       12.000000             12.000000    12.000000\n",
       "mean    1.024439e+06   145412.250000              3.750000  2360.416667\n",
       "std     2.274083e+06   202831.565333              1.544786  1661.663813\n",
       "min     1.000000e+03     1132.000000              1.000000     0.000000\n",
       "25%     3.061250e+03     3283.750000              3.000000   735.500000\n",
       "50%     1.313275e+05    18485.000000              3.500000  2337.000000\n",
       "75%     3.542958e+05   236985.000000              5.000000  3619.250000\n",
       "max     7.567457e+06   651361.000000              6.000000  4600.000000"
      ]
     },
     "execution_count": 47,
     "metadata": {},
     "output_type": "execute_result"
    }
   ],
   "source": [
    "df.describe()"
   ]
  },
  {
   "cell_type": "code",
   "execution_count": 48,
   "metadata": {},
   "outputs": [
    {
     "name": "stdout",
     "output_type": "stream",
     "text": [
      "Hourly_Income            1000\n",
      "Hourly_Expense           1132\n",
      "family_members_count        1\n",
      "House_rent                  0\n",
      "Highest_income_Member     Ava\n",
      "dtype: object\n",
      "0.24916282100669904\n",
      "0.48030274841182274\n",
      "0.7443597229489826\n",
      "Hourly_Income            7567457\n",
      "Hourly_Expense            651361\n",
      "family_members_count           6\n",
      "House_rent                  4600\n",
      "Highest_income_Member     Sophia\n",
      "dtype: object\n"
     ]
    }
   ],
   "source": [
    "from numpy import percentile\n",
    "from numpy.random import rand\n",
    "# generate data sample\n",
    "data = rand(1000)\n",
    "# calculate quartiles\n",
    "quartiles = percentile(data, [25, 50, 75])\n",
    "# calculate min/max\n",
    "data_min, data_max = df.min(), df.max()\n",
    "# print 5-number summary\n",
    "print(data_min)\n",
    "print(quartiles[0])\n",
    "print( quartiles[1])\n",
    "print(quartiles[2])\n",
    "print( data_max)"
   ]
  },
  {
   "cell_type": "markdown",
   "metadata": {},
   "source": [
    ">##### B. What is the mean of the hourly expense?"
   ]
  },
  {
   "cell_type": "code",
   "execution_count": 14,
   "metadata": {},
   "outputs": [
    {
     "name": "stdout",
     "output_type": "stream",
     "text": [
      "The mean of hourly expenses is : 145412.25\n"
     ]
    }
   ],
   "source": [
    "print(\"The mean of hourly expenses is :\" , df['Hourly_Expense'].mean())"
   ]
  },
  {
   "cell_type": "markdown",
   "metadata": {},
   "source": [
    ">##### C. What is the median of the hourly expense?\n"
   ]
  },
  {
   "cell_type": "code",
   "execution_count": 15,
   "metadata": {},
   "outputs": [
    {
     "name": "stdout",
     "output_type": "stream",
     "text": [
      "The median of hourly expenses is : 18485.0\n"
     ]
    }
   ],
   "source": [
    "print(\"The median of hourly expenses is :\" , df['Hourly_Expense'].median())"
   ]
  },
  {
   "cell_type": "markdown",
   "metadata": {},
   "source": [
    ">##### D. Find the family member with maximum income and using a suitable graph.\n"
   ]
  },
  {
   "cell_type": "code",
   "execution_count": 16,
   "metadata": {},
   "outputs": [
    {
     "data": {
      "text/html": [
       "<div>\n",
       "<style scoped>\n",
       "    .dataframe tbody tr th:only-of-type {\n",
       "        vertical-align: middle;\n",
       "    }\n",
       "\n",
       "    .dataframe tbody tr th {\n",
       "        vertical-align: top;\n",
       "    }\n",
       "\n",
       "    .dataframe thead th {\n",
       "        text-align: right;\n",
       "    }\n",
       "</style>\n",
       "<table border=\"1\" class=\"dataframe\">\n",
       "  <thead>\n",
       "    <tr style=\"text-align: right;\">\n",
       "      <th></th>\n",
       "      <th>Hourly_Income</th>\n",
       "      <th>Hourly_Expense</th>\n",
       "      <th>family_members_count</th>\n",
       "      <th>House_rent</th>\n",
       "      <th>Highest_income_Member</th>\n",
       "    </tr>\n",
       "  </thead>\n",
       "  <tbody>\n",
       "    <tr>\n",
       "      <th>0</th>\n",
       "      <td>1000</td>\n",
       "      <td>651361</td>\n",
       "      <td>3</td>\n",
       "      <td>1299</td>\n",
       "      <td>Olivia</td>\n",
       "    </tr>\n",
       "    <tr>\n",
       "      <th>1</th>\n",
       "      <td>2009</td>\n",
       "      <td>217371</td>\n",
       "      <td>4</td>\n",
       "      <td>2300</td>\n",
       "      <td>George</td>\n",
       "    </tr>\n",
       "    <tr>\n",
       "      <th>2</th>\n",
       "      <td>24418</td>\n",
       "      <td>2746</td>\n",
       "      <td>2</td>\n",
       "      <td>3411</td>\n",
       "      <td>Isla</td>\n",
       "    </tr>\n",
       "    <tr>\n",
       "      <th>3</th>\n",
       "      <td>444478</td>\n",
       "      <td>2356</td>\n",
       "      <td>3</td>\n",
       "      <td>3422</td>\n",
       "      <td>Harry</td>\n",
       "    </tr>\n",
       "    <tr>\n",
       "      <th>4</th>\n",
       "      <td>324235</td>\n",
       "      <td>13436</td>\n",
       "      <td>1</td>\n",
       "      <td>4566</td>\n",
       "      <td>Ava</td>\n",
       "    </tr>\n",
       "  </tbody>\n",
       "</table>\n",
       "</div>"
      ],
      "text/plain": [
       "   Hourly_Income  Hourly_Expense  family_members_count  House_rent  \\\n",
       "0           1000          651361                     3        1299   \n",
       "1           2009          217371                     4        2300   \n",
       "2          24418            2746                     2        3411   \n",
       "3         444478            2356                     3        3422   \n",
       "4         324235           13436                     1        4566   \n",
       "\n",
       "  Highest_income_Member  \n",
       "0                Olivia  \n",
       "1                George  \n",
       "2                  Isla  \n",
       "3                 Harry  \n",
       "4                   Ava  "
      ]
     },
     "execution_count": 16,
     "metadata": {},
     "output_type": "execute_result"
    }
   ],
   "source": [
    "df.head()"
   ]
  },
  {
   "cell_type": "code",
   "execution_count": 52,
   "metadata": {},
   "outputs": [
    {
     "data": {
      "image/png": "[encoded data removed]",
      "text/plain": [
       "<Figure size 432x288 with 1 Axes>"
      ]
     },
     "metadata": {
      "needs_background": "light"
     },
     "output_type": "display_data"
    }
   ],
   "source": [
    "sns.countplot(x='Highest_income_Member',data=df)\n",
    "plt.title('Highest_income_Member COUNT')\n",
    "plt.xlabel('Highest_income_Member')\n",
    "plt.show()"
   ]
  },
  {
   "cell_type": "markdown",
   "metadata": {},
   "source": [
    ">##### E. Calculate IQR(the difference between 75% and 25% quartile) for `Hourly_Income` and `Hourly_Expense`.\n"
   ]
  },
  {
   "cell_type": "code",
   "execution_count": 27,
   "metadata": {},
   "outputs": [
    {
     "name": "stdout",
     "output_type": "stream",
     "text": [
      "THE IQR OF HOURLY INCOME IS : 351234.5\n"
     ]
    }
   ],
   "source": [
    "Q1 = df['Hourly_Income'].quantile(0.25)\n",
    "Q2 = df['Hourly_Income'].quantile(0.5)\n",
    "Q3 = df['Hourly_Income'].quantile(0.75)\n",
    "IQR_Hourly_Income = Q3 - Q1\n",
    "print(\"THE IQR OF HOURLY INCOME IS :\", IQR_Hourly_Income)"
   ]
  },
  {
   "cell_type": "code",
   "execution_count": 28,
   "metadata": {},
   "outputs": [
    {
     "name": "stdout",
     "output_type": "stream",
     "text": [
      "THE IQR OF HOURLY INCOME IS : 233701.25\n"
     ]
    }
   ],
   "source": [
    "Q1 = df['Hourly_Expense'].quantile(0.25)\n",
    "Q2 = df['Hourly_Expense'].quantile(0.5)\n",
    "Q3 = df['Hourly_Expense'].quantile(0.75)\n",
    "IQR_Hourly_Expense = Q3 - Q1\n",
    "print(\"THE IQR OF HOURLY INCOME IS :\", IQR_Hourly_Expense)"
   ]
  },
  {
   "cell_type": "markdown",
   "metadata": {},
   "source": [
    "\n",
    ">##### F. Calculate the standard deviation for first 2 columns.\n"
   ]
  },
  {
   "cell_type": "code",
   "execution_count": 51,
   "metadata": {},
   "outputs": [
    {
     "name": "stdout",
     "output_type": "stream",
     "text": [
      "Standard deviation of first column : 2274082.7497064094\n",
      "Standard deviation of second column : 202831.56533265588\n"
     ]
    }
   ],
   "source": [
    "print('Standard deviation of first column :',df.iloc[:,0].std())\n",
    "print('Standard deviation of second column :',df.iloc[:,1].std())"
   ]
  },
  {
   "cell_type": "code",
   "execution_count": 118,
   "metadata": {},
   "outputs": [
    {
     "data": {
      "text/plain": [
       "Hourly_Income     2.274083e+06\n",
       "Hourly_Expense    2.028316e+05\n",
       "dtype: float64"
      ]
     },
     "execution_count": 118,
     "metadata": {},
     "output_type": "execute_result"
    }
   ],
   "source": [
    "df.iloc[:,:2].std()"
   ]
  },
  {
   "cell_type": "code",
   "execution_count": 32,
   "metadata": {},
   "outputs": [
    {
     "name": "stdout",
     "output_type": "stream",
     "text": [
      "THE STANDARD DEVIATION OF THE FIRST COLUMN IS : 2274082.7497064094\n",
      "THE STANDARD DEVIATION OF THE SECOND COLUMN IS : 202831.56533265588\n"
     ]
    }
   ],
   "source": [
    "std_Hourly_Income  = df['Hourly_Income'].std()\n",
    "print(\"THE STANDARD DEVIATION OF THE FIRST COLUMN IS :\", std_Hourly_Income)\n",
    "\n",
    "std_Hourly_Expense  = df['Hourly_Expense'].std()\n",
    "print(\"THE STANDARD DEVIATION OF THE SECOND COLUMN IS :\", std_Hourly_Expense)\n",
    "\n"
   ]
  },
  {
   "cell_type": "code",
   "execution_count": 35,
   "metadata": {},
   "outputs": [
    {
     "name": "stdout",
     "output_type": "stream",
     "text": [
      "THE STANDARD DEVIATION OF THE FIRST COLUMN IS : 2274082.7497064094\n",
      "THE STANDARD DEVIATION OF THE SECOND COLUMN IS : 202831.56533265588\n"
     ]
    }
   ],
   "source": [
    "var_Hourly_Income= df['Hourly_Income'].var()\n",
    "std_Hourly_Income = np.sqrt(var_Hourly_Income)\n",
    "print(\"THE STANDARD DEVIATION OF THE FIRST COLUMN IS :\",\n",
    "      std_Hourly_Income)\n",
    "\n",
    "var_Hourly_Expense= df['Hourly_Expense'].var()\n",
    "std_Hourly_Expense = np.sqrt(var_Hourly_Expense)\n",
    "print(\"THE STANDARD DEVIATION OF THE SECOND COLUMN IS :\", std_Hourly_Expense)\n"
   ]
  },
  {
   "cell_type": "markdown",
   "metadata": {},
   "source": [
    ">##### G. Calculate variance for the first 4 columns"
   ]
  },
  {
   "cell_type": "code",
   "execution_count": 53,
   "metadata": {},
   "outputs": [
    {
     "name": "stdout",
     "output_type": "stream",
     "text": [
      "Variance of column 1 : 5171452352512.265\n",
      "Variance of column 2 : 41140643895.295456\n",
      "Variance of column 3 : 2.3863636363636362\n",
      "Variance of column 4 : 2761126.6287878784\n"
     ]
    }
   ],
   "source": [
    "for i in range(4):\n",
    "    print('Variance of column',i+1,':',df.iloc[:,i].var())"
   ]
  },
  {
   "cell_type": "code",
   "execution_count": 40,
   "metadata": {},
   "outputs": [
    {
     "name": "stdout",
     "output_type": "stream",
     "text": [
      "THE VARIANCE OF THE FIRST COLUMN IS : 5171452352512.265\n",
      "THE VARIANCE OF THE SECOND COLUMN IS : 41140643895.295456\n",
      "THE VARIANCE OF THE THIRD COLUMN IS : 2.3863636363636362\n",
      "THE VARIANCE OF THE FOURTH COLUMN IS : 2761126.6287878784\n"
     ]
    }
   ],
   "source": [
    "var_Hourly_Income= df['Hourly_Income'].var()\n",
    "print(\"THE VARIANCE OF THE FIRST COLUMN IS :\",var_Hourly_Income)\n",
    "\n",
    "var_Hourly_Expense= df['Hourly_Expense'].var()\n",
    "print(\"THE VARIANCE OF THE SECOND COLUMN IS :\",var_Hourly_Expense)\n",
    "\n",
    "var_family_members_count = df['family_members_count'].var()\n",
    "print(\"THE VARIANCE OF THE THIRD COLUMN IS :\",var_family_members_count)\n",
    "\n",
    "var_House_rent= df['House_rent'].var()\n",
    "print(\"THE VARIANCE OF THE FOURTH COLUMN IS :\",var_House_rent)\n"
   ]
  },
  {
   "cell_type": "markdown",
   "metadata": {},
   "source": [
    "<h4 class=\"list-group-item list-group-item-action active\" >2. Preliminary Wrangling,</h4>\n",
    "\n",
    ">### Dataset Information: \n",
    "\n",
    "Dataset recording people to invest in each other in a way that is financially and socially rewarding. On loans, borrowers list loan requests between $ 2,000 and $ 35,000 and individual investors invest as little as $ 25 in each loan listing they select. Prosper handles the servicing of the loan on behalf of the matched borrowers and investors.\n",
    "\n",
    "\n",
    "\n",
    "\n",
    ">#### A. Read the dataset called Pri-Load.csv\n",
    ">#### B.  Check the data type and adjust datatype for all other categorical columns.\n",
    ">#### C. If you find any of the missing values in the ProsperRating column, then drop it.\n",
    "\n"
   ]
  },
  {
   "cell_type": "code",
   "execution_count": 77,
   "metadata": {},
   "outputs": [
    {
     "data": {
      "text/html": [
       "<div>\n",
       "<style scoped>\n",
       "    .dataframe tbody tr th:only-of-type {\n",
       "        vertical-align: middle;\n",
       "    }\n",
       "\n",
       "    .dataframe tbody tr th {\n",
       "        vertical-align: top;\n",
       "    }\n",
       "\n",
       "    .dataframe thead th {\n",
       "        text-align: right;\n",
       "    }\n",
       "</style>\n",
       "<table border=\"1\" class=\"dataframe\">\n",
       "  <thead>\n",
       "    <tr style=\"text-align: right;\">\n",
       "      <th></th>\n",
       "      <th>ListingCreationDate</th>\n",
       "      <th>Term</th>\n",
       "      <th>LoanStatus</th>\n",
       "      <th>ClosedDate</th>\n",
       "      <th>BorrowerAPR</th>\n",
       "      <th>BorrowerRate</th>\n",
       "      <th>LenderYield</th>\n",
       "      <th>ProsperRating (Alpha)</th>\n",
       "      <th>ProsperScore</th>\n",
       "      <th>ListingCategory (numeric)</th>\n",
       "      <th>...</th>\n",
       "      <th>EmploymentStatus</th>\n",
       "      <th>AmountDelinquent</th>\n",
       "      <th>StatedMonthlyIncome</th>\n",
       "      <th>LoanCurrentDaysDelinquent</th>\n",
       "      <th>LoanOriginalAmount</th>\n",
       "      <th>LoanOriginationDate</th>\n",
       "      <th>LoanOriginationQuarter</th>\n",
       "      <th>MonthlyLoanPayment</th>\n",
       "      <th>LP_InterestandFees</th>\n",
       "      <th>Investors</th>\n",
       "    </tr>\n",
       "  </thead>\n",
       "  <tbody>\n",
       "    <tr>\n",
       "      <th>0</th>\n",
       "      <td>2007-08-26 19:09:29.263000000</td>\n",
       "      <td>36</td>\n",
       "      <td>Completed</td>\n",
       "      <td>14-08-2009 0.00</td>\n",
       "      <td>0.16516</td>\n",
       "      <td>0.158</td>\n",
       "      <td>0.138</td>\n",
       "      <td>NaN</td>\n",
       "      <td>NaN</td>\n",
       "      <td>0</td>\n",
       "      <td>...</td>\n",
       "      <td>Self-employed</td>\n",
       "      <td>472.0</td>\n",
       "      <td>3083.333333</td>\n",
       "      <td>0</td>\n",
       "      <td>9425</td>\n",
       "      <td>12-09-2007 0.00</td>\n",
       "      <td>Q3 2007</td>\n",
       "      <td>330.43</td>\n",
       "      <td>1971.14</td>\n",
       "      <td>258</td>\n",
       "    </tr>\n",
       "    <tr>\n",
       "      <th>1</th>\n",
       "      <td>2014-02-27 08:28:07.900000000</td>\n",
       "      <td>36</td>\n",
       "      <td>Current</td>\n",
       "      <td>NaN</td>\n",
       "      <td>0.12016</td>\n",
       "      <td>0.092</td>\n",
       "      <td>0.082</td>\n",
       "      <td>A</td>\n",
       "      <td>7.0</td>\n",
       "      <td>2</td>\n",
       "      <td>...</td>\n",
       "      <td>Employed</td>\n",
       "      <td>0.0</td>\n",
       "      <td>6125.000000</td>\n",
       "      <td>0</td>\n",
       "      <td>10000</td>\n",
       "      <td>03-03-2014 0.00</td>\n",
       "      <td>Q1 2014</td>\n",
       "      <td>318.93</td>\n",
       "      <td>0.00</td>\n",
       "      <td>1</td>\n",
       "    </tr>\n",
       "    <tr>\n",
       "      <th>2</th>\n",
       "      <td>2007-01-05 15:00:47.090000000</td>\n",
       "      <td>36</td>\n",
       "      <td>Completed</td>\n",
       "      <td>17-12-2009 0.00</td>\n",
       "      <td>0.28269</td>\n",
       "      <td>0.275</td>\n",
       "      <td>0.240</td>\n",
       "      <td>NaN</td>\n",
       "      <td>NaN</td>\n",
       "      <td>0</td>\n",
       "      <td>...</td>\n",
       "      <td>Not available</td>\n",
       "      <td>NaN</td>\n",
       "      <td>2083.333333</td>\n",
       "      <td>0</td>\n",
       "      <td>3001</td>\n",
       "      <td>17-01-2007 0.00</td>\n",
       "      <td>Q1 2007</td>\n",
       "      <td>123.32</td>\n",
       "      <td>1185.63</td>\n",
       "      <td>41</td>\n",
       "    </tr>\n",
       "  </tbody>\n",
       "</table>\n",
       "<p>3 rows × 22 columns</p>\n",
       "</div>"
      ],
      "text/plain": [
       "             ListingCreationDate  Term LoanStatus       ClosedDate  \\\n",
       "0  2007-08-26 19:09:29.263000000    36  Completed  14-08-2009 0.00   \n",
       "1  2014-02-27 08:28:07.900000000    36    Current              NaN   \n",
       "2  2007-01-05 15:00:47.090000000    36  Completed  17-12-2009 0.00   \n",
       "\n",
       "   BorrowerAPR  BorrowerRate  LenderYield ProsperRating (Alpha)  ProsperScore  \\\n",
       "0      0.16516         0.158        0.138                   NaN           NaN   \n",
       "1      0.12016         0.092        0.082                     A           7.0   \n",
       "2      0.28269         0.275        0.240                   NaN           NaN   \n",
       "\n",
       "   ListingCategory (numeric)  ... EmploymentStatus AmountDelinquent  \\\n",
       "0                          0  ...    Self-employed            472.0   \n",
       "1                          2  ...         Employed              0.0   \n",
       "2                          0  ...    Not available              NaN   \n",
       "\n",
       "  StatedMonthlyIncome  LoanCurrentDaysDelinquent  LoanOriginalAmount  \\\n",
       "0         3083.333333                          0                9425   \n",
       "1         6125.000000                          0               10000   \n",
       "2         2083.333333                          0                3001   \n",
       "\n",
       "   LoanOriginationDate  LoanOriginationQuarter MonthlyLoanPayment  \\\n",
       "0      12-09-2007 0.00                 Q3 2007             330.43   \n",
       "1      03-03-2014 0.00                 Q1 2014             318.93   \n",
       "2      17-01-2007 0.00                 Q1 2007             123.32   \n",
       "\n",
       "  LP_InterestandFees  Investors  \n",
       "0            1971.14        258  \n",
       "1               0.00          1  \n",
       "2            1185.63         41  \n",
       "\n",
       "[3 rows x 22 columns]"
      ]
     },
     "execution_count": 77,
     "metadata": {},
     "output_type": "execute_result"
    }
   ],
   "source": [
    "df1 = pd.read_csv(r'C:\\Users\\Mannat\\Downloads\\Pri-Load.csv')\n",
    "df1.head(3)"
   ]
  },
  {
   "cell_type": "code",
   "execution_count": 78,
   "metadata": {},
   "outputs": [
    {
     "name": "stdout",
     "output_type": "stream",
     "text": [
      "<class 'pandas.core.frame.DataFrame'>\n",
      "RangeIndex: 1035 entries, 0 to 1034\n",
      "Data columns (total 22 columns):\n",
      " #   Column                     Non-Null Count  Dtype  \n",
      "---  ------                     --------------  -----  \n",
      " 0   ListingCreationDate        1035 non-null   object \n",
      " 1   Term                       1035 non-null   int64  \n",
      " 2   LoanStatus                 1035 non-null   object \n",
      " 3   ClosedDate                 479 non-null    object \n",
      " 4   BorrowerAPR                1035 non-null   float64\n",
      " 5   BorrowerRate               1035 non-null   float64\n",
      " 6   LenderYield                1035 non-null   float64\n",
      " 7   ProsperRating (Alpha)      783 non-null    object \n",
      " 8   ProsperScore               783 non-null    float64\n",
      " 9   ListingCategory (numeric)  1035 non-null   int64  \n",
      " 10  BorrowerState              983 non-null    object \n",
      " 11  Occupation                 996 non-null    object \n",
      " 12  EmploymentStatus           1010 non-null   object \n",
      " 13  AmountDelinquent           954 non-null    float64\n",
      " 14  StatedMonthlyIncome        1035 non-null   float64\n",
      " 15  LoanCurrentDaysDelinquent  1035 non-null   int64  \n",
      " 16  LoanOriginalAmount         1035 non-null   int64  \n",
      " 17  LoanOriginationDate        1035 non-null   object \n",
      " 18  LoanOriginationQuarter     1035 non-null   object \n",
      " 19  MonthlyLoanPayment         1035 non-null   float64\n",
      " 20  LP_InterestandFees         1035 non-null   float64\n",
      " 21  Investors                  1035 non-null   int64  \n",
      "dtypes: float64(8), int64(5), object(9)\n",
      "memory usage: 178.0+ KB\n"
     ]
    }
   ],
   "source": [
    "df1.info()"
   ]
  },
  {
   "cell_type": "code",
   "execution_count": 79,
   "metadata": {},
   "outputs": [
    {
     "data": {
      "text/plain": [
       "ListingCreationDate            0\n",
       "Term                           0\n",
       "LoanStatus                     0\n",
       "ClosedDate                   556\n",
       "BorrowerAPR                    0\n",
       "BorrowerRate                   0\n",
       "LenderYield                    0\n",
       "ProsperRating (Alpha)        252\n",
       "ProsperScore                 252\n",
       "ListingCategory (numeric)      0\n",
       "BorrowerState                 52\n",
       "Occupation                    39\n",
       "EmploymentStatus              25\n",
       "AmountDelinquent              81\n",
       "StatedMonthlyIncome            0\n",
       "LoanCurrentDaysDelinquent      0\n",
       "LoanOriginalAmount             0\n",
       "LoanOriginationDate            0\n",
       "LoanOriginationQuarter         0\n",
       "MonthlyLoanPayment             0\n",
       "LP_InterestandFees             0\n",
       "Investors                      0\n",
       "dtype: int64"
      ]
     },
     "execution_count": 79,
     "metadata": {},
     "output_type": "execute_result"
    }
   ],
   "source": [
    "df1.apply(lambda x: sum(x.isnull()),axis=0) "
   ]
  },
  {
   "cell_type": "markdown",
   "metadata": {},
   "source": [
    ">#### B.  Check the data type and adjust datatype for all other categorical columns.\n"
   ]
  },
  {
   "cell_type": "code",
   "execution_count": 80,
   "metadata": {},
   "outputs": [],
   "source": [
    "df1[df1.select_dtypes(['object']).columns] = df1.select_dtypes(['object']).apply(lambda x: x.astype('category'))"
   ]
  },
  {
   "cell_type": "code",
   "execution_count": 81,
   "metadata": {},
   "outputs": [
    {
     "name": "stdout",
     "output_type": "stream",
     "text": [
      "<class 'pandas.core.frame.DataFrame'>\n",
      "RangeIndex: 1035 entries, 0 to 1034\n",
      "Data columns (total 22 columns):\n",
      " #   Column                     Non-Null Count  Dtype   \n",
      "---  ------                     --------------  -----   \n",
      " 0   ListingCreationDate        1035 non-null   category\n",
      " 1   Term                       1035 non-null   int64   \n",
      " 2   LoanStatus                 1035 non-null   category\n",
      " 3   ClosedDate                 479 non-null    category\n",
      " 4   BorrowerAPR                1035 non-null   float64 \n",
      " 5   BorrowerRate               1035 non-null   float64 \n",
      " 6   LenderYield                1035 non-null   float64 \n",
      " 7   ProsperRating (Alpha)      783 non-null    category\n",
      " 8   ProsperScore               783 non-null    float64 \n",
      " 9   ListingCategory (numeric)  1035 non-null   int64   \n",
      " 10  BorrowerState              983 non-null    category\n",
      " 11  Occupation                 996 non-null    category\n",
      " 12  EmploymentStatus           1010 non-null   category\n",
      " 13  AmountDelinquent           954 non-null    float64 \n",
      " 14  StatedMonthlyIncome        1035 non-null   float64 \n",
      " 15  LoanCurrentDaysDelinquent  1035 non-null   int64   \n",
      " 16  LoanOriginalAmount         1035 non-null   int64   \n",
      " 17  LoanOriginationDate        1035 non-null   category\n",
      " 18  LoanOriginationQuarter     1035 non-null   category\n",
      " 19  MonthlyLoanPayment         1035 non-null   float64 \n",
      " 20  LP_InterestandFees         1035 non-null   float64 \n",
      " 21  Investors                  1035 non-null   int64   \n",
      "dtypes: category(9), float64(8), int64(5)\n",
      "memory usage: 205.0 KB\n"
     ]
    }
   ],
   "source": [
    "df1.info()"
   ]
  },
  {
   "cell_type": "markdown",
   "metadata": {},
   "source": [
    ">#### C. If you find any of the missing values in the ProsperRating column, then drop it.\n"
   ]
  },
  {
   "cell_type": "code",
   "execution_count": 82,
   "metadata": {},
   "outputs": [
    {
     "data": {
      "text/plain": [
       "252"
      ]
     },
     "execution_count": 82,
     "metadata": {},
     "output_type": "execute_result"
    }
   ],
   "source": [
    "df1['ProsperRating (Alpha)'].isnull().sum()"
   ]
  },
  {
   "cell_type": "code",
   "execution_count": 83,
   "metadata": {},
   "outputs": [],
   "source": [
    "df1.dropna(subset=['ProsperRating (Alpha)'],inplace= True)"
   ]
  },
  {
   "cell_type": "code",
   "execution_count": 84,
   "metadata": {},
   "outputs": [
    {
     "data": {
      "text/plain": [
       "C     171\n",
       "B     143\n",
       "A     132\n",
       "D     128\n",
       "E      87\n",
       "HR     69\n",
       "AA     53\n",
       "Name: ProsperRating (Alpha), dtype: int64"
      ]
     },
     "execution_count": 84,
     "metadata": {},
     "output_type": "execute_result"
    }
   ],
   "source": [
    "df1['ProsperRating (Alpha)'].value_counts()"
   ]
  },
  {
   "cell_type": "code",
   "execution_count": 85,
   "metadata": {},
   "outputs": [
    {
     "data": {
      "text/plain": [
       "0"
      ]
     },
     "execution_count": 85,
     "metadata": {},
     "output_type": "execute_result"
    }
   ],
   "source": [
    "df1['ProsperRating (Alpha)'].isnull().sum()"
   ]
  },
  {
   "cell_type": "markdown",
   "metadata": {},
   "source": [
    "<h4 class=\"list-group-item list-group-item-action active\" >3. UNIVARIATE ANALYSIS</h4>\n",
    "\n",
    ">#### A. What are the main features of interest in your dataset?\n",
    "\n",
    "    Step1: Apply Univariate analysis using suitable charts for[ Loan status, Employment Status, Stated Monthly Income]\n",
    "\n",
    "    Step2: Check if any column distribution skew or not.\n",
    "\n",
    "    Step3: Write at least 2 observations for each visualization.\n",
    "\n",
    "\n"
   ]
  },
  {
   "cell_type": "markdown",
   "metadata": {},
   "source": [
    ">### \"LOAN STATUS DISTRIBUTION\""
   ]
  },
  {
   "cell_type": "code",
   "execution_count": 86,
   "metadata": {},
   "outputs": [
    {
     "data": {
      "image/png": "[encoded data removed]",
      "text/plain": [
       "<Figure size 1080x576 with 1 Axes>"
      ]
     },
     "metadata": {
      "needs_background": "light"
     },
     "output_type": "display_data"
    }
   ],
   "source": [
    "# steps for plotting\n",
    "\n",
    "#set plot size\n",
    "plt.figure(figsize=(15,8))\n",
    "# plot  plot\n",
    "\n",
    "sns.swarmplot(df1['LoanStatus'])\n",
    "# add labels\n",
    "plt.xlabel(\"LOAN STATUS \",fontsize = 15)\n",
    "\n",
    "plt.title(\"LOAN STATUS DISTRIBUTION\", fontsize = 15)\n",
    "plt.show()"
   ]
  },
  {
   "cell_type": "markdown",
   "metadata": {},
   "source": [
    ">#### OBSERVATION : the data is right skewed ie(skew > 1)  \n",
    ">#### The highest count is for the active loanstatus in the current state which is above 500 and the loan status of completed is is the second highest count of more than 300\n",
    ">#### The lowest count is for canncelled loan status ie 0"
   ]
  },
  {
   "cell_type": "code",
   "execution_count": 87,
   "metadata": {},
   "outputs": [
    {
     "data": {
      "image/png": "[encoded data removed]",
      "text/plain": [
       "<Figure size 1080x576 with 1 Axes>"
      ]
     },
     "metadata": {
      "needs_background": "light"
     },
     "output_type": "display_data"
    }
   ],
   "source": [
    "# steps for plotting\n",
    "\n",
    "#set plot size\n",
    "plt.figure(figsize=(15,8))\n",
    "# plot  plot\n",
    "\n",
    "sns.stripplot(df1['LoanStatus'])\n",
    "# add labels\n",
    "plt.xlabel(\"LOAN STATUS \",fontsize = 15)\n",
    "\n",
    "plt.title(\"LOAN STATUS DISTRIBUTION\", fontsize = 15)\n",
    "plt.show()"
   ]
  },
  {
   "cell_type": "code",
   "execution_count": 88,
   "metadata": {},
   "outputs": [
    {
     "data": {
      "text/plain": [
       "Current                  544\n",
       "Completed                168\n",
       "Chargedoff                48\n",
       "Defaulted                 11\n",
       "Past Due (1-15 days)       5\n",
       "Past Due (61-90 days)      4\n",
       "Past Due (16-30 days)      2\n",
       "Past Due (31-60 days)      1\n",
       "Cancelled                  0\n",
       "Name: LoanStatus, dtype: int64"
      ]
     },
     "execution_count": 88,
     "metadata": {},
     "output_type": "execute_result"
    }
   ],
   "source": [
    "df1['LoanStatus'].value_counts()"
   ]
  },
  {
   "cell_type": "code",
   "execution_count": 89,
   "metadata": {},
   "outputs": [
    {
     "data": {
      "text/html": [
       "<div>\n",
       "<style scoped>\n",
       "    .dataframe tbody tr th:only-of-type {\n",
       "        vertical-align: middle;\n",
       "    }\n",
       "\n",
       "    .dataframe tbody tr th {\n",
       "        vertical-align: top;\n",
       "    }\n",
       "\n",
       "    .dataframe thead th {\n",
       "        text-align: right;\n",
       "    }\n",
       "</style>\n",
       "<table border=\"1\" class=\"dataframe\">\n",
       "  <thead>\n",
       "    <tr style=\"text-align: right;\">\n",
       "      <th></th>\n",
       "      <th>ListingCreationDate</th>\n",
       "      <th>Term</th>\n",
       "      <th>LoanStatus</th>\n",
       "      <th>ClosedDate</th>\n",
       "      <th>BorrowerAPR</th>\n",
       "      <th>BorrowerRate</th>\n",
       "      <th>LenderYield</th>\n",
       "      <th>ProsperRating (Alpha)</th>\n",
       "      <th>ProsperScore</th>\n",
       "      <th>ListingCategory (numeric)</th>\n",
       "      <th>...</th>\n",
       "      <th>AmountDelinquent</th>\n",
       "      <th>StatedMonthlyIncome</th>\n",
       "      <th>LoanCurrentDaysDelinquent</th>\n",
       "      <th>LoanOriginalAmount</th>\n",
       "      <th>LoanOriginationDate</th>\n",
       "      <th>LoanOriginationQuarter</th>\n",
       "      <th>MonthlyLoanPayment</th>\n",
       "      <th>LP_InterestandFees</th>\n",
       "      <th>Investors</th>\n",
       "      <th>Loan</th>\n",
       "    </tr>\n",
       "  </thead>\n",
       "  <tbody>\n",
       "    <tr>\n",
       "      <th>1028</th>\n",
       "      <td>2010-03-12 12:13:42.697000000</td>\n",
       "      <td>36</td>\n",
       "      <td>Completed</td>\n",
       "      <td>23-03-2013 0.00</td>\n",
       "      <td>0.26282</td>\n",
       "      <td>0.2399</td>\n",
       "      <td>0.2299</td>\n",
       "      <td>D</td>\n",
       "      <td>7.0</td>\n",
       "      <td>1</td>\n",
       "      <td>...</td>\n",
       "      <td>0.0</td>\n",
       "      <td>2840.083333</td>\n",
       "      <td>0</td>\n",
       "      <td>3500</td>\n",
       "      <td>23-03-2010 0.00</td>\n",
       "      <td>Q1 2010</td>\n",
       "      <td>131.50</td>\n",
       "      <td>1448.61</td>\n",
       "      <td>209</td>\n",
       "      <td>1</td>\n",
       "    </tr>\n",
       "    <tr>\n",
       "      <th>1029</th>\n",
       "      <td>2013-08-22 13:08:33.250000000</td>\n",
       "      <td>36</td>\n",
       "      <td>Current</td>\n",
       "      <td>NaN</td>\n",
       "      <td>0.18725</td>\n",
       "      <td>0.1509</td>\n",
       "      <td>0.1409</td>\n",
       "      <td>B</td>\n",
       "      <td>7.0</td>\n",
       "      <td>1</td>\n",
       "      <td>...</td>\n",
       "      <td>0.0</td>\n",
       "      <td>12916.666670</td>\n",
       "      <td>0</td>\n",
       "      <td>30000</td>\n",
       "      <td>26-08-2013 0.00</td>\n",
       "      <td>Q3 2013</td>\n",
       "      <td>1041.28</td>\n",
       "      <td>2153.83</td>\n",
       "      <td>202</td>\n",
       "      <td>2</td>\n",
       "    </tr>\n",
       "    <tr>\n",
       "      <th>1030</th>\n",
       "      <td>2012-02-05 13:26:09.013000000</td>\n",
       "      <td>36</td>\n",
       "      <td>Current</td>\n",
       "      <td>NaN</td>\n",
       "      <td>0.24246</td>\n",
       "      <td>0.2049</td>\n",
       "      <td>0.1949</td>\n",
       "      <td>C</td>\n",
       "      <td>7.0</td>\n",
       "      <td>1</td>\n",
       "      <td>...</td>\n",
       "      <td>0.0</td>\n",
       "      <td>4750.000000</td>\n",
       "      <td>0</td>\n",
       "      <td>15000</td>\n",
       "      <td>13-02-2012 0.00</td>\n",
       "      <td>Q1 2012</td>\n",
       "      <td>561.21</td>\n",
       "      <td>4510.85</td>\n",
       "      <td>291</td>\n",
       "      <td>2</td>\n",
       "    </tr>\n",
       "    <tr>\n",
       "      <th>1031</th>\n",
       "      <td>2013-11-30 18:09:55.920000000</td>\n",
       "      <td>60</td>\n",
       "      <td>Current</td>\n",
       "      <td>NaN</td>\n",
       "      <td>0.21832</td>\n",
       "      <td>0.1940</td>\n",
       "      <td>0.1840</td>\n",
       "      <td>C</td>\n",
       "      <td>4.0</td>\n",
       "      <td>1</td>\n",
       "      <td>...</td>\n",
       "      <td>0.0</td>\n",
       "      <td>5500.000000</td>\n",
       "      <td>0</td>\n",
       "      <td>5000</td>\n",
       "      <td>11-12-2013 0.00</td>\n",
       "      <td>Q4 2013</td>\n",
       "      <td>130.81</td>\n",
       "      <td>163.97</td>\n",
       "      <td>1</td>\n",
       "      <td>2</td>\n",
       "    </tr>\n",
       "    <tr>\n",
       "      <th>1033</th>\n",
       "      <td>2011-08-22 21:04:01.433000000</td>\n",
       "      <td>60</td>\n",
       "      <td>Current</td>\n",
       "      <td>NaN</td>\n",
       "      <td>0.29371</td>\n",
       "      <td>0.2699</td>\n",
       "      <td>0.2599</td>\n",
       "      <td>D</td>\n",
       "      <td>5.0</td>\n",
       "      <td>2</td>\n",
       "      <td>...</td>\n",
       "      <td>0.0</td>\n",
       "      <td>2681.000000</td>\n",
       "      <td>0</td>\n",
       "      <td>10000</td>\n",
       "      <td>30-08-2011 0.00</td>\n",
       "      <td>Q3 2011</td>\n",
       "      <td>305.29</td>\n",
       "      <td>5777.86</td>\n",
       "      <td>148</td>\n",
       "      <td>2</td>\n",
       "    </tr>\n",
       "  </tbody>\n",
       "</table>\n",
       "<p>5 rows × 23 columns</p>\n",
       "</div>"
      ],
      "text/plain": [
       "                ListingCreationDate  Term LoanStatus       ClosedDate  \\\n",
       "1028  2010-03-12 12:13:42.697000000    36  Completed  23-03-2013 0.00   \n",
       "1029  2013-08-22 13:08:33.250000000    36    Current              NaN   \n",
       "1030  2012-02-05 13:26:09.013000000    36    Current              NaN   \n",
       "1031  2013-11-30 18:09:55.920000000    60    Current              NaN   \n",
       "1033  2011-08-22 21:04:01.433000000    60    Current              NaN   \n",
       "\n",
       "      BorrowerAPR  BorrowerRate  LenderYield ProsperRating (Alpha)  \\\n",
       "1028      0.26282        0.2399       0.2299                     D   \n",
       "1029      0.18725        0.1509       0.1409                     B   \n",
       "1030      0.24246        0.2049       0.1949                     C   \n",
       "1031      0.21832        0.1940       0.1840                     C   \n",
       "1033      0.29371        0.2699       0.2599                     D   \n",
       "\n",
       "      ProsperScore  ListingCategory (numeric)  ... AmountDelinquent  \\\n",
       "1028           7.0                          1  ...              0.0   \n",
       "1029           7.0                          1  ...              0.0   \n",
       "1030           7.0                          1  ...              0.0   \n",
       "1031           4.0                          1  ...              0.0   \n",
       "1033           5.0                          2  ...              0.0   \n",
       "\n",
       "     StatedMonthlyIncome LoanCurrentDaysDelinquent  LoanOriginalAmount  \\\n",
       "1028         2840.083333                         0                3500   \n",
       "1029        12916.666670                         0               30000   \n",
       "1030         4750.000000                         0               15000   \n",
       "1031         5500.000000                         0                5000   \n",
       "1033         2681.000000                         0               10000   \n",
       "\n",
       "      LoanOriginationDate  LoanOriginationQuarter  MonthlyLoanPayment  \\\n",
       "1028      23-03-2010 0.00                 Q1 2010              131.50   \n",
       "1029      26-08-2013 0.00                 Q3 2013             1041.28   \n",
       "1030      13-02-2012 0.00                 Q1 2012              561.21   \n",
       "1031      11-12-2013 0.00                 Q4 2013              130.81   \n",
       "1033      30-08-2011 0.00                 Q3 2011              305.29   \n",
       "\n",
       "     LP_InterestandFees Investors  Loan  \n",
       "1028            1448.61       209     1  \n",
       "1029            2153.83       202     2  \n",
       "1030            4510.85       291     2  \n",
       "1031             163.97         1     2  \n",
       "1033            5777.86       148     2  \n",
       "\n",
       "[5 rows x 23 columns]"
      ]
     },
     "execution_count": 89,
     "metadata": {},
     "output_type": "execute_result"
    }
   ],
   "source": [
    "from sklearn.preprocessing import LabelEncoder\n",
    "LE = LabelEncoder()\n",
    "\n",
    "df1['Loan'] = LE.fit_transform(df1['LoanStatus'])\n",
    "df1.tail()\n"
   ]
  },
  {
   "cell_type": "code",
   "execution_count": 90,
   "metadata": {},
   "outputs": [
    {
     "data": {
      "text/plain": [
       "1.4274388374410876"
      ]
     },
     "execution_count": 90,
     "metadata": {},
     "output_type": "execute_result"
    }
   ],
   "source": [
    "df1['Loan'].skew()"
   ]
  },
  {
   "cell_type": "markdown",
   "metadata": {},
   "source": [
    ">### 'EmploymentStatus"
   ]
  },
  {
   "cell_type": "code",
   "execution_count": 91,
   "metadata": {},
   "outputs": [
    {
     "data": {
      "image/png": "[encoded data removed]",
      "text/plain": [
       "<Figure size 1080x576 with 1 Axes>"
      ]
     },
     "metadata": {
      "needs_background": "light"
     },
     "output_type": "display_data"
    }
   ],
   "source": [
    "#set plot size\n",
    "plt.figure(figsize=(15,8))\n",
    "# plot box plot\n",
    "sns.countplot(df1['EmploymentStatus'])\n",
    "\n",
    "# add labels\n",
    "plt.xlabel(\"EMPLOYEMENT STATUS\",fontsize = 15)\n",
    "\n",
    "plt.title(\"DISTRIBUTION OF EMPLOYEMENT STATUS\", fontsize = 15)\n",
    "\n",
    "\n",
    "plt.show()"
   ]
  },
  {
   "cell_type": "markdown",
   "metadata": {},
   "source": [
    ">#### OBSERVATION : the data is right skewed ie(skew > 1) exactly 2.7980819311594027\n",
    "\n",
    ">#### which means that there are a higher value ie outlier as compared to other which is employed \n",
    ">#### The highest majority of  Employement status is employed people indicating that most people are employed \n",
    ">#### The lowest count is for not available "
   ]
  },
  {
   "cell_type": "code",
   "execution_count": 93,
   "metadata": {},
   "outputs": [
    {
     "data": {
      "text/plain": [
       "2.7980819311594027"
      ]
     },
     "execution_count": 93,
     "metadata": {},
     "output_type": "execute_result"
    }
   ],
   "source": [
    "df1['Employement'].skew()"
   ]
  },
  {
   "cell_type": "code",
   "execution_count": 121,
   "metadata": {},
   "outputs": [
    {
     "data": {
      "text/plain": [
       "Employed         139\n",
       "Full-time         56\n",
       "Self-employed     15\n",
       "Not employed       7\n",
       "Other              5\n",
       "Part-time          3\n",
       "Retired            2\n",
       "Not available      0\n",
       "Name: EmploymentStatus, dtype: int64"
      ]
     },
     "execution_count": 121,
     "metadata": {},
     "output_type": "execute_result"
    }
   ],
   "source": [
    "df1['EmploymentStatus'].value_counts()"
   ]
  },
  {
   "cell_type": "code",
   "execution_count": 92,
   "metadata": {},
   "outputs": [
    {
     "data": {
      "text/html": [
       "<div>\n",
       "<style scoped>\n",
       "    .dataframe tbody tr th:only-of-type {\n",
       "        vertical-align: middle;\n",
       "    }\n",
       "\n",
       "    .dataframe tbody tr th {\n",
       "        vertical-align: top;\n",
       "    }\n",
       "\n",
       "    .dataframe thead th {\n",
       "        text-align: right;\n",
       "    }\n",
       "</style>\n",
       "<table border=\"1\" class=\"dataframe\">\n",
       "  <thead>\n",
       "    <tr style=\"text-align: right;\">\n",
       "      <th></th>\n",
       "      <th>ListingCreationDate</th>\n",
       "      <th>Term</th>\n",
       "      <th>LoanStatus</th>\n",
       "      <th>ClosedDate</th>\n",
       "      <th>BorrowerAPR</th>\n",
       "      <th>BorrowerRate</th>\n",
       "      <th>LenderYield</th>\n",
       "      <th>ProsperRating (Alpha)</th>\n",
       "      <th>ProsperScore</th>\n",
       "      <th>ListingCategory (numeric)</th>\n",
       "      <th>...</th>\n",
       "      <th>StatedMonthlyIncome</th>\n",
       "      <th>LoanCurrentDaysDelinquent</th>\n",
       "      <th>LoanOriginalAmount</th>\n",
       "      <th>LoanOriginationDate</th>\n",
       "      <th>LoanOriginationQuarter</th>\n",
       "      <th>MonthlyLoanPayment</th>\n",
       "      <th>LP_InterestandFees</th>\n",
       "      <th>Investors</th>\n",
       "      <th>Loan</th>\n",
       "      <th>Employement</th>\n",
       "    </tr>\n",
       "  </thead>\n",
       "  <tbody>\n",
       "    <tr>\n",
       "      <th>1028</th>\n",
       "      <td>2010-03-12 12:13:42.697000000</td>\n",
       "      <td>36</td>\n",
       "      <td>Completed</td>\n",
       "      <td>23-03-2013 0.00</td>\n",
       "      <td>0.26282</td>\n",
       "      <td>0.2399</td>\n",
       "      <td>0.2299</td>\n",
       "      <td>D</td>\n",
       "      <td>7.0</td>\n",
       "      <td>1</td>\n",
       "      <td>...</td>\n",
       "      <td>2840.083333</td>\n",
       "      <td>0</td>\n",
       "      <td>3500</td>\n",
       "      <td>23-03-2010 0.00</td>\n",
       "      <td>Q1 2010</td>\n",
       "      <td>131.50</td>\n",
       "      <td>1448.61</td>\n",
       "      <td>209</td>\n",
       "      <td>1</td>\n",
       "      <td>1</td>\n",
       "    </tr>\n",
       "    <tr>\n",
       "      <th>1029</th>\n",
       "      <td>2013-08-22 13:08:33.250000000</td>\n",
       "      <td>36</td>\n",
       "      <td>Current</td>\n",
       "      <td>NaN</td>\n",
       "      <td>0.18725</td>\n",
       "      <td>0.1509</td>\n",
       "      <td>0.1409</td>\n",
       "      <td>B</td>\n",
       "      <td>7.0</td>\n",
       "      <td>1</td>\n",
       "      <td>...</td>\n",
       "      <td>12916.666670</td>\n",
       "      <td>0</td>\n",
       "      <td>30000</td>\n",
       "      <td>26-08-2013 0.00</td>\n",
       "      <td>Q3 2013</td>\n",
       "      <td>1041.28</td>\n",
       "      <td>2153.83</td>\n",
       "      <td>202</td>\n",
       "      <td>2</td>\n",
       "      <td>0</td>\n",
       "    </tr>\n",
       "    <tr>\n",
       "      <th>1030</th>\n",
       "      <td>2012-02-05 13:26:09.013000000</td>\n",
       "      <td>36</td>\n",
       "      <td>Current</td>\n",
       "      <td>NaN</td>\n",
       "      <td>0.24246</td>\n",
       "      <td>0.2049</td>\n",
       "      <td>0.1949</td>\n",
       "      <td>C</td>\n",
       "      <td>7.0</td>\n",
       "      <td>1</td>\n",
       "      <td>...</td>\n",
       "      <td>4750.000000</td>\n",
       "      <td>0</td>\n",
       "      <td>15000</td>\n",
       "      <td>13-02-2012 0.00</td>\n",
       "      <td>Q1 2012</td>\n",
       "      <td>561.21</td>\n",
       "      <td>4510.85</td>\n",
       "      <td>291</td>\n",
       "      <td>2</td>\n",
       "      <td>0</td>\n",
       "    </tr>\n",
       "    <tr>\n",
       "      <th>1031</th>\n",
       "      <td>2013-11-30 18:09:55.920000000</td>\n",
       "      <td>60</td>\n",
       "      <td>Current</td>\n",
       "      <td>NaN</td>\n",
       "      <td>0.21832</td>\n",
       "      <td>0.1940</td>\n",
       "      <td>0.1840</td>\n",
       "      <td>C</td>\n",
       "      <td>4.0</td>\n",
       "      <td>1</td>\n",
       "      <td>...</td>\n",
       "      <td>5500.000000</td>\n",
       "      <td>0</td>\n",
       "      <td>5000</td>\n",
       "      <td>11-12-2013 0.00</td>\n",
       "      <td>Q4 2013</td>\n",
       "      <td>130.81</td>\n",
       "      <td>163.97</td>\n",
       "      <td>1</td>\n",
       "      <td>2</td>\n",
       "      <td>0</td>\n",
       "    </tr>\n",
       "    <tr>\n",
       "      <th>1033</th>\n",
       "      <td>2011-08-22 21:04:01.433000000</td>\n",
       "      <td>60</td>\n",
       "      <td>Current</td>\n",
       "      <td>NaN</td>\n",
       "      <td>0.29371</td>\n",
       "      <td>0.2699</td>\n",
       "      <td>0.2599</td>\n",
       "      <td>D</td>\n",
       "      <td>5.0</td>\n",
       "      <td>2</td>\n",
       "      <td>...</td>\n",
       "      <td>2681.000000</td>\n",
       "      <td>0</td>\n",
       "      <td>10000</td>\n",
       "      <td>30-08-2011 0.00</td>\n",
       "      <td>Q3 2011</td>\n",
       "      <td>305.29</td>\n",
       "      <td>5777.86</td>\n",
       "      <td>148</td>\n",
       "      <td>2</td>\n",
       "      <td>1</td>\n",
       "    </tr>\n",
       "  </tbody>\n",
       "</table>\n",
       "<p>5 rows × 24 columns</p>\n",
       "</div>"
      ],
      "text/plain": [
       "                ListingCreationDate  Term LoanStatus       ClosedDate  \\\n",
       "1028  2010-03-12 12:13:42.697000000    36  Completed  23-03-2013 0.00   \n",
       "1029  2013-08-22 13:08:33.250000000    36    Current              NaN   \n",
       "1030  2012-02-05 13:26:09.013000000    36    Current              NaN   \n",
       "1031  2013-11-30 18:09:55.920000000    60    Current              NaN   \n",
       "1033  2011-08-22 21:04:01.433000000    60    Current              NaN   \n",
       "\n",
       "      BorrowerAPR  BorrowerRate  LenderYield ProsperRating (Alpha)  \\\n",
       "1028      0.26282        0.2399       0.2299                     D   \n",
       "1029      0.18725        0.1509       0.1409                     B   \n",
       "1030      0.24246        0.2049       0.1949                     C   \n",
       "1031      0.21832        0.1940       0.1840                     C   \n",
       "1033      0.29371        0.2699       0.2599                     D   \n",
       "\n",
       "      ProsperScore  ListingCategory (numeric)  ... StatedMonthlyIncome  \\\n",
       "1028           7.0                          1  ...         2840.083333   \n",
       "1029           7.0                          1  ...        12916.666670   \n",
       "1030           7.0                          1  ...         4750.000000   \n",
       "1031           4.0                          1  ...         5500.000000   \n",
       "1033           5.0                          2  ...         2681.000000   \n",
       "\n",
       "     LoanCurrentDaysDelinquent LoanOriginalAmount  LoanOriginationDate  \\\n",
       "1028                         0               3500      23-03-2010 0.00   \n",
       "1029                         0              30000      26-08-2013 0.00   \n",
       "1030                         0              15000      13-02-2012 0.00   \n",
       "1031                         0               5000      11-12-2013 0.00   \n",
       "1033                         0              10000      30-08-2011 0.00   \n",
       "\n",
       "      LoanOriginationQuarter  MonthlyLoanPayment  LP_InterestandFees  \\\n",
       "1028                 Q1 2010              131.50             1448.61   \n",
       "1029                 Q3 2013             1041.28             2153.83   \n",
       "1030                 Q1 2012              561.21             4510.85   \n",
       "1031                 Q4 2013              130.81              163.97   \n",
       "1033                 Q3 2011              305.29             5777.86   \n",
       "\n",
       "     Investors Loan  Employement  \n",
       "1028       209    1            1  \n",
       "1029       202    2            0  \n",
       "1030       291    2            0  \n",
       "1031         1    2            0  \n",
       "1033       148    2            1  \n",
       "\n",
       "[5 rows x 24 columns]"
      ]
     },
     "execution_count": 92,
     "metadata": {},
     "output_type": "execute_result"
    }
   ],
   "source": [
    "from sklearn.preprocessing import LabelEncoder\n",
    "LE = LabelEncoder()\n",
    "\n",
    "df1['Employement'] = LE.fit_transform(df1['EmploymentStatus'])\n",
    "df1.tail()\n"
   ]
  },
  {
   "cell_type": "markdown",
   "metadata": {},
   "source": [
    "### 'StatedMonthlyIncome"
   ]
  },
  {
   "cell_type": "code",
   "execution_count": 94,
   "metadata": {
    "scrolled": true
   },
   "outputs": [
    {
     "data": {
      "text/plain": [
       "Text(0.5, 1.0, 'STATED MONYTHLY PLOT')"
      ]
     },
     "execution_count": 94,
     "metadata": {},
     "output_type": "execute_result"
    },
    {
     "data": {
      "text/plain": [
       "<Figure size 576x360 with 0 Axes>"
      ]
     },
     "metadata": {},
     "output_type": "display_data"
    },
    {
     "data": {
      "image/png": "[encoded data removed]",
      "text/plain": [
       "<Figure size 360x360 with 1 Axes>"
      ]
     },
     "metadata": {
      "needs_background": "light"
     },
     "output_type": "display_data"
    }
   ],
   "source": [
    "plt.figure(figsize=(8,5))\n",
    "sns.catplot(x='StatedMonthlyIncome',data=df1)\n",
    "plt.title(\"STATED MONYTHLY PLOT\")"
   ]
  },
  {
   "cell_type": "code",
   "execution_count": 126,
   "metadata": {},
   "outputs": [
    {
     "data": {
      "text/plain": [
       "Text(0.5, 1.0, 'STATED MONYTHLY PLOT')"
      ]
     },
     "execution_count": 126,
     "metadata": {},
     "output_type": "execute_result"
    },
    {
     "data": {
      "image/png": "[encoded data removed]",
      "text/plain": [
       "<Figure size 1080x576 with 1 Axes>"
      ]
     },
     "metadata": {
      "needs_background": "light"
     },
     "output_type": "display_data"
    }
   ],
   "source": [
    "plt.figure(figsize=(15,8))\n",
    "\n",
    "sns.histplot(df1.StatedMonthlyIncome,color='salmon' )\n",
    "plt.title(\"STATED MONYTHLY PLOT\")\n"
   ]
  },
  {
   "cell_type": "markdown",
   "metadata": {},
   "source": [
    ">#### OBSERVATION : the data is right skewed ie(skew > 1) exactly 3.2736637587476145\n",
    ">#### -Which means that there are a higher value ie outlier present in the data , here the outlier can be found out from the >### -figure that is the entry of 25000 , which is a abnormally high value for the rest of the data \n",
    ">#### -95% of the people earn less than 20000 and only the rest 5 % earn more than 20000 the data has outlieres and gas a right skew"
   ]
  },
  {
   "cell_type": "code",
   "execution_count": 95,
   "metadata": {},
   "outputs": [
    {
     "data": {
      "text/plain": [
       "3.2736637587476145"
      ]
     },
     "execution_count": 95,
     "metadata": {},
     "output_type": "execute_result"
    }
   ],
   "source": [
    "df1['StatedMonthlyIncome'].skew()"
   ]
  },
  {
   "cell_type": "code",
   "execution_count": 129,
   "metadata": {},
   "outputs": [
    {
     "data": {
      "text/plain": [
       "5000.000000     0.035242\n",
       "3500.000000     0.030837\n",
       "0.000000        0.030837\n",
       "6250.000000     0.030837\n",
       "5416.666667     0.026432\n",
       "                  ...   \n",
       "6083.333333     0.004405\n",
       "8083.333333     0.004405\n",
       "16666.666670    0.004405\n",
       "3631.166667     0.004405\n",
       "2840.083333     0.004405\n",
       "Name: StatedMonthlyIncome, Length: 119, dtype: float64"
      ]
     },
     "execution_count": 129,
     "metadata": {},
     "output_type": "execute_result"
    }
   ],
   "source": [
    "df1['StatedMonthlyIncome'].value_counts(normalize=True)"
   ]
  },
  {
   "cell_type": "markdown",
   "metadata": {},
   "source": [
    "<h4 class=\"list-group-item list-group-item-action active\" >4. BIVARIATE ANALYSIS</h4>\n",
    "\n",
    ">#### A. Check the correlation matrix for all numeric variables. Maintain the Strong positive and Negative correlations columns.\n",
    ">#### B. Check the relation between `LoanOriginalAmount` and `BorrowerAPR` columns. \n",
    "\n",
    "    Step1: Use subplots. \n",
    "    \n",
    "        Plot1: Scatter Plot of LoanOriginalAmount and BorrowerAPR columns    \n",
    "\n",
    "        Plot2: HeatMap of LoanOriginalAmount and BorrowerAPR\n",
    "        \n",
    "    Step2: Write your observations.         \n",
    "        \n",
    ">#### C.Display the seperate box plot for `y = BorrowerAPR`  with x1 = `LoanStatus`, x2 = `EmploymentStatus` columns.Write your observations. \n"
   ]
  },
  {
   "cell_type": "code",
   "execution_count": 96,
   "metadata": {},
   "outputs": [],
   "source": [
    "# ------------------------------------------------------------------------------------------------------------------------"
   ]
  },
  {
   "cell_type": "markdown",
   "metadata": {},
   "source": [
    ">#### A. Check the correlation matrix for all numeric variables. Maintain the Strong positive and Negative correlations columns."
   ]
  },
  {
   "cell_type": "code",
   "execution_count": 98,
   "metadata": {},
   "outputs": [
    {
     "data": {
      "text/html": [
       "<div>\n",
       "<style scoped>\n",
       "    .dataframe tbody tr th:only-of-type {\n",
       "        vertical-align: middle;\n",
       "    }\n",
       "\n",
       "    .dataframe tbody tr th {\n",
       "        vertical-align: top;\n",
       "    }\n",
       "\n",
       "    .dataframe thead th {\n",
       "        text-align: right;\n",
       "    }\n",
       "</style>\n",
       "<table border=\"1\" class=\"dataframe\">\n",
       "  <thead>\n",
       "    <tr style=\"text-align: right;\">\n",
       "      <th></th>\n",
       "      <th>Term</th>\n",
       "      <th>BorrowerAPR</th>\n",
       "      <th>BorrowerRate</th>\n",
       "      <th>LenderYield</th>\n",
       "      <th>ProsperScore</th>\n",
       "      <th>ListingCategory (numeric)</th>\n",
       "      <th>AmountDelinquent</th>\n",
       "      <th>StatedMonthlyIncome</th>\n",
       "      <th>LoanCurrentDaysDelinquent</th>\n",
       "      <th>LoanOriginalAmount</th>\n",
       "      <th>MonthlyLoanPayment</th>\n",
       "      <th>LP_InterestandFees</th>\n",
       "      <th>Investors</th>\n",
       "      <th>Loan</th>\n",
       "      <th>Employement</th>\n",
       "    </tr>\n",
       "  </thead>\n",
       "  <tbody>\n",
       "    <tr>\n",
       "      <th>Term</th>\n",
       "      <td>1.000000</td>\n",
       "      <td>-0.114773</td>\n",
       "      <td>-0.051395</td>\n",
       "      <td>-0.051395</td>\n",
       "      <td>0.090518</td>\n",
       "      <td>-0.108346</td>\n",
       "      <td>-0.066580</td>\n",
       "      <td>0.075713</td>\n",
       "      <td>-0.090192</td>\n",
       "      <td>0.363728</td>\n",
       "      <td>0.075655</td>\n",
       "      <td>0.166858</td>\n",
       "      <td>-0.030132</td>\n",
       "      <td>0.190028</td>\n",
       "      <td>-0.126992</td>\n",
       "    </tr>\n",
       "    <tr>\n",
       "      <th>BorrowerAPR</th>\n",
       "      <td>-0.114773</td>\n",
       "      <td>1.000000</td>\n",
       "      <td>0.993566</td>\n",
       "      <td>0.993566</td>\n",
       "      <td>-0.640320</td>\n",
       "      <td>0.158519</td>\n",
       "      <td>0.005908</td>\n",
       "      <td>-0.252639</td>\n",
       "      <td>0.227554</td>\n",
       "      <td>-0.422646</td>\n",
       "      <td>-0.312658</td>\n",
       "      <td>0.230707</td>\n",
       "      <td>-0.234232</td>\n",
       "      <td>-0.172156</td>\n",
       "      <td>0.052496</td>\n",
       "    </tr>\n",
       "    <tr>\n",
       "      <th>BorrowerRate</th>\n",
       "      <td>-0.051395</td>\n",
       "      <td>0.993566</td>\n",
       "      <td>1.000000</td>\n",
       "      <td>1.000000</td>\n",
       "      <td>-0.619934</td>\n",
       "      <td>0.148140</td>\n",
       "      <td>-0.003389</td>\n",
       "      <td>-0.254265</td>\n",
       "      <td>0.238240</td>\n",
       "      <td>-0.412322</td>\n",
       "      <td>-0.322830</td>\n",
       "      <td>0.257639</td>\n",
       "      <td>-0.214173</td>\n",
       "      <td>-0.178031</td>\n",
       "      <td>0.052260</td>\n",
       "    </tr>\n",
       "    <tr>\n",
       "      <th>LenderYield</th>\n",
       "      <td>-0.051395</td>\n",
       "      <td>0.993566</td>\n",
       "      <td>1.000000</td>\n",
       "      <td>1.000000</td>\n",
       "      <td>-0.619934</td>\n",
       "      <td>0.148140</td>\n",
       "      <td>-0.003389</td>\n",
       "      <td>-0.254265</td>\n",
       "      <td>0.238240</td>\n",
       "      <td>-0.412322</td>\n",
       "      <td>-0.322830</td>\n",
       "      <td>0.257639</td>\n",
       "      <td>-0.214173</td>\n",
       "      <td>-0.178031</td>\n",
       "      <td>0.052260</td>\n",
       "    </tr>\n",
       "    <tr>\n",
       "      <th>ProsperScore</th>\n",
       "      <td>0.090518</td>\n",
       "      <td>-0.640320</td>\n",
       "      <td>-0.619934</td>\n",
       "      <td>-0.619934</td>\n",
       "      <td>1.000000</td>\n",
       "      <td>-0.041906</td>\n",
       "      <td>-0.062707</td>\n",
       "      <td>0.199536</td>\n",
       "      <td>-0.072170</td>\n",
       "      <td>0.245904</td>\n",
       "      <td>0.144268</td>\n",
       "      <td>0.016248</td>\n",
       "      <td>0.311131</td>\n",
       "      <td>-0.029373</td>\n",
       "      <td>-0.114800</td>\n",
       "    </tr>\n",
       "    <tr>\n",
       "      <th>ListingCategory (numeric)</th>\n",
       "      <td>-0.108346</td>\n",
       "      <td>0.158519</td>\n",
       "      <td>0.148140</td>\n",
       "      <td>0.148140</td>\n",
       "      <td>-0.041906</td>\n",
       "      <td>1.000000</td>\n",
       "      <td>0.076968</td>\n",
       "      <td>-0.082321</td>\n",
       "      <td>0.010424</td>\n",
       "      <td>-0.229170</td>\n",
       "      <td>-0.206464</td>\n",
       "      <td>0.031386</td>\n",
       "      <td>-0.033180</td>\n",
       "      <td>-0.068460</td>\n",
       "      <td>-0.001795</td>\n",
       "    </tr>\n",
       "    <tr>\n",
       "      <th>AmountDelinquent</th>\n",
       "      <td>-0.066580</td>\n",
       "      <td>0.005908</td>\n",
       "      <td>-0.003389</td>\n",
       "      <td>-0.003389</td>\n",
       "      <td>-0.062707</td>\n",
       "      <td>0.076968</td>\n",
       "      <td>1.000000</td>\n",
       "      <td>-0.017033</td>\n",
       "      <td>-0.005276</td>\n",
       "      <td>-0.071448</td>\n",
       "      <td>-0.062087</td>\n",
       "      <td>-0.056868</td>\n",
       "      <td>-0.045042</td>\n",
       "      <td>-0.007275</td>\n",
       "      <td>0.013719</td>\n",
       "    </tr>\n",
       "    <tr>\n",
       "      <th>StatedMonthlyIncome</th>\n",
       "      <td>0.075713</td>\n",
       "      <td>-0.252639</td>\n",
       "      <td>-0.254265</td>\n",
       "      <td>-0.254265</td>\n",
       "      <td>0.199536</td>\n",
       "      <td>-0.082321</td>\n",
       "      <td>-0.017033</td>\n",
       "      <td>1.000000</td>\n",
       "      <td>-0.098607</td>\n",
       "      <td>0.418816</td>\n",
       "      <td>0.396892</td>\n",
       "      <td>0.108826</td>\n",
       "      <td>0.088789</td>\n",
       "      <td>0.044914</td>\n",
       "      <td>0.020863</td>\n",
       "    </tr>\n",
       "    <tr>\n",
       "      <th>LoanCurrentDaysDelinquent</th>\n",
       "      <td>-0.090192</td>\n",
       "      <td>0.227554</td>\n",
       "      <td>0.238240</td>\n",
       "      <td>0.238240</td>\n",
       "      <td>-0.072170</td>\n",
       "      <td>0.010424</td>\n",
       "      <td>-0.005276</td>\n",
       "      <td>-0.098607</td>\n",
       "      <td>1.000000</td>\n",
       "      <td>-0.136783</td>\n",
       "      <td>-0.101961</td>\n",
       "      <td>-0.029949</td>\n",
       "      <td>0.041179</td>\n",
       "      <td>-0.440405</td>\n",
       "      <td>0.114212</td>\n",
       "    </tr>\n",
       "    <tr>\n",
       "      <th>LoanOriginalAmount</th>\n",
       "      <td>0.363728</td>\n",
       "      <td>-0.422646</td>\n",
       "      <td>-0.412322</td>\n",
       "      <td>-0.412322</td>\n",
       "      <td>0.245904</td>\n",
       "      <td>-0.229170</td>\n",
       "      <td>-0.071448</td>\n",
       "      <td>0.418816</td>\n",
       "      <td>-0.136783</td>\n",
       "      <td>1.000000</td>\n",
       "      <td>0.924229</td>\n",
       "      <td>0.269348</td>\n",
       "      <td>0.298321</td>\n",
       "      <td>0.214455</td>\n",
       "      <td>-0.132801</td>\n",
       "    </tr>\n",
       "    <tr>\n",
       "      <th>MonthlyLoanPayment</th>\n",
       "      <td>0.075655</td>\n",
       "      <td>-0.312658</td>\n",
       "      <td>-0.322830</td>\n",
       "      <td>-0.322830</td>\n",
       "      <td>0.144268</td>\n",
       "      <td>-0.206464</td>\n",
       "      <td>-0.062087</td>\n",
       "      <td>0.396892</td>\n",
       "      <td>-0.101961</td>\n",
       "      <td>0.924229</td>\n",
       "      <td>1.000000</td>\n",
       "      <td>0.291726</td>\n",
       "      <td>0.286374</td>\n",
       "      <td>0.140343</td>\n",
       "      <td>-0.110804</td>\n",
       "    </tr>\n",
       "    <tr>\n",
       "      <th>LP_InterestandFees</th>\n",
       "      <td>0.166858</td>\n",
       "      <td>0.230707</td>\n",
       "      <td>0.257639</td>\n",
       "      <td>0.257639</td>\n",
       "      <td>0.016248</td>\n",
       "      <td>0.031386</td>\n",
       "      <td>-0.056868</td>\n",
       "      <td>0.108826</td>\n",
       "      <td>-0.029949</td>\n",
       "      <td>0.269348</td>\n",
       "      <td>0.291726</td>\n",
       "      <td>1.000000</td>\n",
       "      <td>0.358959</td>\n",
       "      <td>0.003643</td>\n",
       "      <td>-0.086046</td>\n",
       "    </tr>\n",
       "    <tr>\n",
       "      <th>Investors</th>\n",
       "      <td>-0.030132</td>\n",
       "      <td>-0.234232</td>\n",
       "      <td>-0.214173</td>\n",
       "      <td>-0.214173</td>\n",
       "      <td>0.311131</td>\n",
       "      <td>-0.033180</td>\n",
       "      <td>-0.045042</td>\n",
       "      <td>0.088789</td>\n",
       "      <td>0.041179</td>\n",
       "      <td>0.298321</td>\n",
       "      <td>0.286374</td>\n",
       "      <td>0.358959</td>\n",
       "      <td>1.000000</td>\n",
       "      <td>-0.082025</td>\n",
       "      <td>-0.010472</td>\n",
       "    </tr>\n",
       "    <tr>\n",
       "      <th>Loan</th>\n",
       "      <td>0.190028</td>\n",
       "      <td>-0.172156</td>\n",
       "      <td>-0.178031</td>\n",
       "      <td>-0.178031</td>\n",
       "      <td>-0.029373</td>\n",
       "      <td>-0.068460</td>\n",
       "      <td>-0.007275</td>\n",
       "      <td>0.044914</td>\n",
       "      <td>-0.440405</td>\n",
       "      <td>0.214455</td>\n",
       "      <td>0.140343</td>\n",
       "      <td>0.003643</td>\n",
       "      <td>-0.082025</td>\n",
       "      <td>1.000000</td>\n",
       "      <td>-0.085168</td>\n",
       "    </tr>\n",
       "    <tr>\n",
       "      <th>Employement</th>\n",
       "      <td>-0.126992</td>\n",
       "      <td>0.052496</td>\n",
       "      <td>0.052260</td>\n",
       "      <td>0.052260</td>\n",
       "      <td>-0.114800</td>\n",
       "      <td>-0.001795</td>\n",
       "      <td>0.013719</td>\n",
       "      <td>0.020863</td>\n",
       "      <td>0.114212</td>\n",
       "      <td>-0.132801</td>\n",
       "      <td>-0.110804</td>\n",
       "      <td>-0.086046</td>\n",
       "      <td>-0.010472</td>\n",
       "      <td>-0.085168</td>\n",
       "      <td>1.000000</td>\n",
       "    </tr>\n",
       "  </tbody>\n",
       "</table>\n",
       "</div>"
      ],
      "text/plain": [
       "                               Term  BorrowerAPR  BorrowerRate  LenderYield  \\\n",
       "Term                       1.000000    -0.114773     -0.051395    -0.051395   \n",
       "BorrowerAPR               -0.114773     1.000000      0.993566     0.993566   \n",
       "BorrowerRate              -0.051395     0.993566      1.000000     1.000000   \n",
       "LenderYield               -0.051395     0.993566      1.000000     1.000000   \n",
       "ProsperScore               0.090518    -0.640320     -0.619934    -0.619934   \n",
       "ListingCategory (numeric) -0.108346     0.158519      0.148140     0.148140   \n",
       "AmountDelinquent          -0.066580     0.005908     -0.003389    -0.003389   \n",
       "StatedMonthlyIncome        0.075713    -0.252639     -0.254265    -0.254265   \n",
       "LoanCurrentDaysDelinquent -0.090192     0.227554      0.238240     0.238240   \n",
       "LoanOriginalAmount         0.363728    -0.422646     -0.412322    -0.412322   \n",
       "MonthlyLoanPayment         0.075655    -0.312658     -0.322830    -0.322830   \n",
       "LP_InterestandFees         0.166858     0.230707      0.257639     0.257639   \n",
       "Investors                 -0.030132    -0.234232     -0.214173    -0.214173   \n",
       "Loan                       0.190028    -0.172156     -0.178031    -0.178031   \n",
       "Employement               -0.126992     0.052496      0.052260     0.052260   \n",
       "\n",
       "                           ProsperScore  ListingCategory (numeric)  \\\n",
       "Term                           0.090518                  -0.108346   \n",
       "BorrowerAPR                   -0.640320                   0.158519   \n",
       "BorrowerRate                  -0.619934                   0.148140   \n",
       "LenderYield                   -0.619934                   0.148140   \n",
       "ProsperScore                   1.000000                  -0.041906   \n",
       "ListingCategory (numeric)     -0.041906                   1.000000   \n",
       "AmountDelinquent              -0.062707                   0.076968   \n",
       "StatedMonthlyIncome            0.199536                  -0.082321   \n",
       "LoanCurrentDaysDelinquent     -0.072170                   0.010424   \n",
       "LoanOriginalAmount             0.245904                  -0.229170   \n",
       "MonthlyLoanPayment             0.144268                  -0.206464   \n",
       "LP_InterestandFees             0.016248                   0.031386   \n",
       "Investors                      0.311131                  -0.033180   \n",
       "Loan                          -0.029373                  -0.068460   \n",
       "Employement                   -0.114800                  -0.001795   \n",
       "\n",
       "                           AmountDelinquent  StatedMonthlyIncome  \\\n",
       "Term                              -0.066580             0.075713   \n",
       "BorrowerAPR                        0.005908            -0.252639   \n",
       "BorrowerRate                      -0.003389            -0.254265   \n",
       "LenderYield                       -0.003389            -0.254265   \n",
       "ProsperScore                      -0.062707             0.199536   \n",
       "ListingCategory (numeric)          0.076968            -0.082321   \n",
       "AmountDelinquent                   1.000000            -0.017033   \n",
       "StatedMonthlyIncome               -0.017033             1.000000   \n",
       "LoanCurrentDaysDelinquent         -0.005276            -0.098607   \n",
       "LoanOriginalAmount                -0.071448             0.418816   \n",
       "MonthlyLoanPayment                -0.062087             0.396892   \n",
       "LP_InterestandFees                -0.056868             0.108826   \n",
       "Investors                         -0.045042             0.088789   \n",
       "Loan                              -0.007275             0.044914   \n",
       "Employement                        0.013719             0.020863   \n",
       "\n",
       "                           LoanCurrentDaysDelinquent  LoanOriginalAmount  \\\n",
       "Term                                       -0.090192            0.363728   \n",
       "BorrowerAPR                                 0.227554           -0.422646   \n",
       "BorrowerRate                                0.238240           -0.412322   \n",
       "LenderYield                                 0.238240           -0.412322   \n",
       "ProsperScore                               -0.072170            0.245904   \n",
       "ListingCategory (numeric)                   0.010424           -0.229170   \n",
       "AmountDelinquent                           -0.005276           -0.071448   \n",
       "StatedMonthlyIncome                        -0.098607            0.418816   \n",
       "LoanCurrentDaysDelinquent                   1.000000           -0.136783   \n",
       "LoanOriginalAmount                         -0.136783            1.000000   \n",
       "MonthlyLoanPayment                         -0.101961            0.924229   \n",
       "LP_InterestandFees                         -0.029949            0.269348   \n",
       "Investors                                   0.041179            0.298321   \n",
       "Loan                                       -0.440405            0.214455   \n",
       "Employement                                 0.114212           -0.132801   \n",
       "\n",
       "                           MonthlyLoanPayment  LP_InterestandFees  Investors  \\\n",
       "Term                                 0.075655            0.166858  -0.030132   \n",
       "BorrowerAPR                         -0.312658            0.230707  -0.234232   \n",
       "BorrowerRate                        -0.322830            0.257639  -0.214173   \n",
       "LenderYield                         -0.322830            0.257639  -0.214173   \n",
       "ProsperScore                         0.144268            0.016248   0.311131   \n",
       "ListingCategory (numeric)           -0.206464            0.031386  -0.033180   \n",
       "AmountDelinquent                    -0.062087           -0.056868  -0.045042   \n",
       "StatedMonthlyIncome                  0.396892            0.108826   0.088789   \n",
       "LoanCurrentDaysDelinquent           -0.101961           -0.029949   0.041179   \n",
       "LoanOriginalAmount                   0.924229            0.269348   0.298321   \n",
       "MonthlyLoanPayment                   1.000000            0.291726   0.286374   \n",
       "LP_InterestandFees                   0.291726            1.000000   0.358959   \n",
       "Investors                            0.286374            0.358959   1.000000   \n",
       "Loan                                 0.140343            0.003643  -0.082025   \n",
       "Employement                         -0.110804           -0.086046  -0.010472   \n",
       "\n",
       "                               Loan  Employement  \n",
       "Term                       0.190028    -0.126992  \n",
       "BorrowerAPR               -0.172156     0.052496  \n",
       "BorrowerRate              -0.178031     0.052260  \n",
       "LenderYield               -0.178031     0.052260  \n",
       "ProsperScore              -0.029373    -0.114800  \n",
       "ListingCategory (numeric) -0.068460    -0.001795  \n",
       "AmountDelinquent          -0.007275     0.013719  \n",
       "StatedMonthlyIncome        0.044914     0.020863  \n",
       "LoanCurrentDaysDelinquent -0.440405     0.114212  \n",
       "LoanOriginalAmount         0.214455    -0.132801  \n",
       "MonthlyLoanPayment         0.140343    -0.110804  \n",
       "LP_InterestandFees         0.003643    -0.086046  \n",
       "Investors                 -0.082025    -0.010472  \n",
       "Loan                       1.000000    -0.085168  \n",
       "Employement               -0.085168     1.000000  "
      ]
     },
     "execution_count": 98,
     "metadata": {},
     "output_type": "execute_result"
    }
   ],
   "source": [
    "pt = df1.corr()\n",
    "pt[(pt>=1 ) | (pt <=1 )]"
   ]
  },
  {
   "cell_type": "code",
   "execution_count": 154,
   "metadata": {},
   "outputs": [
    {
     "data": {
      "image/png": "[encoded data removed]",
      "text/plain": [
       "<Figure size 1080x576 with 2 Axes>"
      ]
     },
     "metadata": {
      "needs_background": "light"
     },
     "output_type": "display_data"
    }
   ],
   "source": [
    "plt.figure(figsize=(15,8))\n",
    "sns.heatmap(df1.corr(),annot=True,cmap='ocean_r')\n",
    "plt.show()"
   ]
  },
  {
   "cell_type": "code",
   "execution_count": null,
   "metadata": {},
   "outputs": [],
   "source": [
    "Pastel' is not a valid value for name; supported values are 'Accent', 'Accent_r', 'Blues', 'Blues_r', 'BrBG', 'BrBG_r', 'BuGn', 'BuGn_r', 'BuPu', 'BuPu_r', 'CMRmap', 'CMRmap_r', 'Dark2', 'Dark2_r', 'GnBu', 'GnBu_r', 'Greens', 'Greens_r', 'Greys', 'Greys_r', 'OrRd', 'OrRd_r', 'Oranges', 'Oranges_r', 'PRGn', 'PRGn_r', 'Paired', 'Paired_r', 'Pastel1', 'Pastel1_r', 'Pastel2', 'Pastel2_r', 'PiYG', 'PiYG_r', 'PuBu', 'PuBuGn', 'PuBuGn_r', 'PuBu_r', 'PuOr', 'PuOr_r', 'PuRd', 'PuRd_r', 'Purples', 'Purples_r', 'RdBu', 'RdBu_r', 'RdGy', 'RdGy_r', 'RdPu', 'RdPu_r', 'RdYlBu', 'RdYlBu_r', 'RdYlGn', 'RdYlGn_r', 'Reds', 'Reds_r', 'Set1', 'Set1_r', 'Set2', 'Set2_r', 'Set3', 'Set3_r', 'Spectral', 'Spectral_r', 'Wistia', 'Wistia_r', 'YlGn', 'YlGnBu', 'YlGnBu_r', 'YlGn_r', 'YlOrBr', 'YlOrBr_r', 'YlOrRd', 'YlOrRd_r', 'afmhot', 'afmhot_r', 'autumn', 'autumn_r', 'binary', 'binary_r', 'bone', 'bone_r', 'brg', 'brg_r', 'bwr', 'bwr_r', 'cividis', 'cividis_r', 'cool', 'cool_r', 'coolwarm', 'coolwarm_r', 'copper', 'copper_r', 'crest', 'crest_r', 'cubehelix', 'cubehelix_r', 'flag', 'flag_r', 'flare', 'flare_r', 'gist_earth', 'gist_earth_r', 'gist_gray', 'gist_gray_r', 'gist_heat', 'gist_heat_r', 'gist_ncar', 'gist_ncar_r', 'gist_rainbow', 'gist_rainbow_r', 'gist_stern', 'gist_stern_r', 'gist_yarg', 'gist_yarg_r', 'gnuplot', 'gnuplot2', 'gnuplot2_r', 'gnuplot_r', 'gray', 'gray_r', 'hot', 'hot_r', 'hsv', 'hsv_r', 'icefire', 'icefire_r', 'inferno', 'inferno_r', 'jet', 'jet_r', 'magma', 'magma_r', 'mako', 'mako_r', 'nipy_spectral', 'nipy_spectral_r', 'ocean', 'ocean_r', 'pink', 'pink_r', 'plasma', 'plasma_r', 'prism', 'prism_r', 'rainbow', 'rainbow_r', 'rocket', 'rocket_r', 'seismic', 'seismic_r', 'spring', 'spring_r', 'summer', 'summer_r', 'tab10', 'tab10_r', 'tab20', 'tab20_r', 'tab20b', 'tab20b_r', 'tab20c', 'tab20c_r', 'terrain', 'terrain_r', 'turbo', 'turbo_r', 'twilight', 'twilight_r', 'twilight_shifted', 'twilight_shifted_r', 'viridis', 'viridis_r', 'vlag', 'vlag_r', 'winter', 'winter_r'"
   ]
  },
  {
   "cell_type": "markdown",
   "metadata": {},
   "source": [
    ">#### OBSERVATION / INFERENCE : Correlation coefficients range from -1 to 1. -1 means there is a strong negative correlation and 1 means there is a strong positive correlation. \n",
    ">#### If the correlation coefficient is zero, there is no correlation.\n",
    ">#### BorrowerRate and Lenderyield have the highest correlation of 1\n",
    ">#### BorrowerAPR,BorrowerRate,LenderYield, show a somewhat negative correlation with ProsperScore\n",
    ">#### LoanOrginal amount and montly loan payment is also nearly strong correaltion"
   ]
  },
  {
   "cell_type": "markdown",
   "metadata": {},
   "source": [
    ">#### B. Check the relation between `LoanOriginalAmount` and `BorrowerAPR` columns. \n",
    "\n",
    "    Step1: Use subplots. \n",
    "    \n",
    "        Plot1: Scatter Plot of LoanOriginalAmount and BorrowerAPR columns    \n",
    "\n",
    "        Plot2: HeatMap of LoanOriginalAmount and BorrowerAPR\n",
    "        \n",
    "    Step2: Write your observations.   "
   ]
  },
  {
   "cell_type": "code",
   "execution_count": 158,
   "metadata": {},
   "outputs": [
    {
     "data": {
      "text/plain": [
       "<Figure size 1800x1440 with 0 Axes>"
      ]
     },
     "metadata": {},
     "output_type": "display_data"
    },
    {
     "data": {
      "image/png": "[encoded data removed]",
      "text/plain": [
       "<Figure size 432x288 with 3 Axes>"
      ]
     },
     "metadata": {},
     "output_type": "display_data"
    }
   ],
   "source": [
    "sns.set()\n",
    "\n",
    "plt.figure(figsize=(25,20))\n",
    "fig, axes = plt.subplots(1,2)\n",
    "sns.scatterplot(x=df1['LoanOriginalAmount'],y=df1['BorrowerAPR'] ,ax=axes[0]);\n",
    "\n",
    "pt=df1[['LoanOriginalAmount','BorrowerAPR']].corr()\n",
    "sns.heatmap(pt,ax=axes[1])\n",
    "plt.show()"
   ]
  },
  {
   "cell_type": "code",
   "execution_count": 99,
   "metadata": {},
   "outputs": [
    {
     "data": {
      "image/png": "[encoded data removed]",
      "text/plain": [
       "<Figure size 1080x576 with 1 Axes>"
      ]
     },
     "metadata": {
      "needs_background": "light"
     },
     "output_type": "display_data"
    }
   ],
   "source": [
    "\n",
    "\n",
    "plt.figure(figsize=(15,8))\n",
    "sns.scatterplot(df1['LoanOriginalAmount'],df1['BorrowerAPR'])\n",
    "plt.show()"
   ]
  },
  {
   "cell_type": "code",
   "execution_count": 100,
   "metadata": {},
   "outputs": [
    {
     "data": {
      "text/html": [
       "<div>\n",
       "<style scoped>\n",
       "    .dataframe tbody tr th:only-of-type {\n",
       "        vertical-align: middle;\n",
       "    }\n",
       "\n",
       "    .dataframe tbody tr th {\n",
       "        vertical-align: top;\n",
       "    }\n",
       "\n",
       "    .dataframe thead th {\n",
       "        text-align: right;\n",
       "    }\n",
       "</style>\n",
       "<table border=\"1\" class=\"dataframe\">\n",
       "  <thead>\n",
       "    <tr style=\"text-align: right;\">\n",
       "      <th></th>\n",
       "      <th>LoanOriginalAmount</th>\n",
       "      <th>BorrowerAPR</th>\n",
       "    </tr>\n",
       "  </thead>\n",
       "  <tbody>\n",
       "    <tr>\n",
       "      <th>LoanOriginalAmount</th>\n",
       "      <td>1.000000</td>\n",
       "      <td>-0.422646</td>\n",
       "    </tr>\n",
       "    <tr>\n",
       "      <th>BorrowerAPR</th>\n",
       "      <td>-0.422646</td>\n",
       "      <td>1.000000</td>\n",
       "    </tr>\n",
       "  </tbody>\n",
       "</table>\n",
       "</div>"
      ],
      "text/plain": [
       "                    LoanOriginalAmount  BorrowerAPR\n",
       "LoanOriginalAmount            1.000000    -0.422646\n",
       "BorrowerAPR                  -0.422646     1.000000"
      ]
     },
     "execution_count": 100,
     "metadata": {},
     "output_type": "execute_result"
    }
   ],
   "source": [
    "pv = df1[['LoanOriginalAmount','BorrowerAPR']].corr()\n",
    "pv"
   ]
  },
  {
   "cell_type": "code",
   "execution_count": 101,
   "metadata": {},
   "outputs": [
    {
     "data": {
      "text/plain": [
       "<AxesSubplot:>"
      ]
     },
     "execution_count": 101,
     "metadata": {},
     "output_type": "execute_result"
    },
    {
     "data": {
      "image/png": "[encoded data removed]",
      "text/plain": [
       "<Figure size 432x288 with 2 Axes>"
      ]
     },
     "metadata": {
      "needs_background": "light"
     },
     "output_type": "display_data"
    }
   ],
   "source": [
    "sns.heatmap(pv, square=True)"
   ]
  },
  {
   "cell_type": "markdown",
   "metadata": {},
   "source": [
    ">#### OBSERVATIONS: The correlation coefficient is measured on a scale from -1 to +1. A positive correlation coefficient means that there is a perfect positive relationship between the two variables.\n",
    "\n",
    ">#### Here there is visibly no co-relation between the Loan Orginal Amount and Borrower APR ie neither strong nor weak\n",
    ">#### The co relatiion value is -0.422646 which ranges more than -1\n",
    ">#### hence no positive or no negative co relation"
   ]
  },
  {
   "cell_type": "markdown",
   "metadata": {},
   "source": [
    "        \n",
    ">#### C.Display the seperate box plot for `y = BorrowerAPR`  with x1 = `LoanStatus`, x2 = `EmploymentStatus` columns.Write your observations. \n"
   ]
  },
  {
   "cell_type": "code",
   "execution_count": 104,
   "metadata": {},
   "outputs": [
    {
     "data": {
      "image/png": "[encoded data removed]",
      "text/plain": [
       "<Figure size 1080x576 with 1 Axes>"
      ]
     },
     "metadata": {
      "needs_background": "light"
     },
     "output_type": "display_data"
    }
   ],
   "source": [
    "plt.figure(figsize=(15,8))\n",
    "sns.boxplot(x=\"EmploymentStatus\",y='BorrowerAPR', data=df1 )\n",
    "plt.title('EmploymentStatus vs BorrowerAPR')\n",
    "plt.show()"
   ]
  },
  {
   "cell_type": "markdown",
   "metadata": {},
   "source": [
    ">#### OBSERVATIONS: Here the data is moderately distributed and there are no detectable outliers present in the data\n",
    ">#### Borrower APR is mainly paid by people with fulltime ,employed, self-employed people and least with not employed and retired\n",
    ">#### data is considered healthy\n"
   ]
  },
  {
   "cell_type": "code",
   "execution_count": 105,
   "metadata": {},
   "outputs": [
    {
     "data": {
      "image/png": "[encoded data removed]",
      "text/plain": [
       "<Figure size 1080x576 with 1 Axes>"
      ]
     },
     "metadata": {
      "needs_background": "light"
     },
     "output_type": "display_data"
    }
   ],
   "source": [
    "plt.figure(figsize=(15,8))\n",
    "sns.boxplot(x=\"LoanStatus\",y='BorrowerAPR', data=df1 )\n",
    "plt.title('LoanStatus vs BorrowerAPR')\n",
    "plt.show()"
   ]
  },
  {
   "cell_type": "markdown",
   "metadata": {},
   "source": [
    "\n",
    ">#### OBSERVATIONS: Here the data is unevenly distributed and there are some detectable outliers present in the data\n",
    ">#### In chargedoff there appears to be some outliers present in the lower whisker  and one outliers present above the upper whisker of due 61 to 90 days , with might alter the hist graph or skewness but since its not numerous it can be considered as a minimal outliers\n",
    ">#### Borrower APR is mainly paid by people completed loan status , 1-15 days and current status\n",
    ">"
   ]
  },
  {
   "cell_type": "markdown",
   "metadata": {},
   "source": [
    "<h4 class=\"list-group-item list-group-item-action active\" >5.  MULTI VARIATE ANALYSIS, FEATURE ENGINEERING</h4>\n",
    "\n",
    ">#### A. Write a program\n",
    "\n",
    "    Step 1: Create a  condition = 'LoanStatus'== 'Completed'| 'LoanStatus' == 'Defaulted' |\\'LoanStatus' == 'Chargedoff'\n",
    "\n",
    "    Step2: Create a user define function  using condition and `LoanStatus` column.\n",
    "\n",
    "    Hint: df['LoanStatus'] = df.apply(user define function , axis=1)\n",
    "    \n",
    "        Sample output : \n",
    "        \n",
    "        \n",
    "        Completed    168\n",
    "        \n",
    "        Defaulted     59\n",
    "\n",
    "\n",
    ">#### B. Write a program\n",
    "\n",
    "    Step 1: Create a  dictionary called categories = 1: 'Debt Consolidation', 2: 'Home Improvement', 3: 'Business', 6: 'Auto', 7: 'Other'\n",
    "\n",
    "    Step2: Create a user define function  using categories and `ListingCategory (numeric)` column.\n",
    "\n",
    "    Hint: df['ListingCategory (numeric)'] = df.apply(user define function , axis=1)\n",
    "    \n",
    "        Sample output : \n",
    "        \n",
    "        \n",
    "        Debt Consolidation    106\n",
    "\n",
    "        Other                  65\n",
    "\n",
    "        Business               25\n",
    "\n",
    "        Home Improvement       22\n",
    "\n",
    "        Auto                    9\n",
    "\n",
    ">#### C. Display the box plot for `ProsperRating (Alpha)` vs `LoanOriginalAmount` and hue = `Loan Status`[Completed,Defaulted]. Write your observations.\n",
    "\n",
    ">#### D. Display the catplot for `ProsperRating (Alpha)` vs `ListingCategory (numeric)`[Debt Consolidation,Other,Business,Home Improvement,Auto] and hue = `Loan Status`[Completed,Defaulted]. Write your observations."
   ]
  },
  {
   "cell_type": "markdown",
   "metadata": {},
   "source": [
    "### A PART"
   ]
  },
  {
   "cell_type": "code",
   "execution_count": 107,
   "metadata": {},
   "outputs": [
    {
     "data": {
      "text/plain": [
       "Completed    168\n",
       "Defaulted     59\n",
       "Name: LoanStatus, dtype: int64"
      ]
     },
     "execution_count": 107,
     "metadata": {},
     "output_type": "execute_result"
    }
   ],
   "source": [
    "condition = df1.loc[(df1['LoanStatus']=='Completed') |\n",
    "                        (df1['LoanStatus'] == 'Defaulted') |\n",
    "                      (df1['LoanStatus'] == 'Chargedoff')]\n",
    "\n",
    "def categorize(condition):\n",
    "    if condition =='Completed':\n",
    "        return 'Completed'\n",
    "        \n",
    "    elif condition == 'Defaulted' or condition == 'Chargedoff':\n",
    "        return 'Defaulted'\n",
    "    \n",
    "df1['LoanStatus'] =df1.apply(lambda x: categorize(x['LoanStatus']) , axis=1)\n",
    "df1['LoanStatus'].value_counts()"
   ]
  },
  {
   "cell_type": "code",
   "execution_count": 109,
   "metadata": {},
   "outputs": [
    {
     "data": {
      "text/html": [
       "<div>\n",
       "<style scoped>\n",
       "    .dataframe tbody tr th:only-of-type {\n",
       "        vertical-align: middle;\n",
       "    }\n",
       "\n",
       "    .dataframe tbody tr th {\n",
       "        vertical-align: top;\n",
       "    }\n",
       "\n",
       "    .dataframe thead th {\n",
       "        text-align: right;\n",
       "    }\n",
       "</style>\n",
       "<table border=\"1\" class=\"dataframe\">\n",
       "  <thead>\n",
       "    <tr style=\"text-align: right;\">\n",
       "      <th></th>\n",
       "      <th>ListingCreationDate</th>\n",
       "      <th>Term</th>\n",
       "      <th>LoanStatus</th>\n",
       "      <th>ClosedDate</th>\n",
       "      <th>BorrowerAPR</th>\n",
       "      <th>BorrowerRate</th>\n",
       "      <th>LenderYield</th>\n",
       "      <th>ProsperRating (Alpha)</th>\n",
       "      <th>ProsperScore</th>\n",
       "      <th>ListingCategory (numeric)</th>\n",
       "      <th>...</th>\n",
       "      <th>StatedMonthlyIncome</th>\n",
       "      <th>LoanCurrentDaysDelinquent</th>\n",
       "      <th>LoanOriginalAmount</th>\n",
       "      <th>LoanOriginationDate</th>\n",
       "      <th>LoanOriginationQuarter</th>\n",
       "      <th>MonthlyLoanPayment</th>\n",
       "      <th>LP_InterestandFees</th>\n",
       "      <th>Investors</th>\n",
       "      <th>Loan</th>\n",
       "      <th>Employement</th>\n",
       "    </tr>\n",
       "  </thead>\n",
       "  <tbody>\n",
       "    <tr>\n",
       "      <th>15</th>\n",
       "      <td>2012-04-10 09:14:46.297000000</td>\n",
       "      <td>36</td>\n",
       "      <td>Defaulted</td>\n",
       "      <td>19-12-2012 0.00</td>\n",
       "      <td>0.35797</td>\n",
       "      <td>0.3177</td>\n",
       "      <td>0.3077</td>\n",
       "      <td>HR</td>\n",
       "      <td>5.0</td>\n",
       "      <td>13</td>\n",
       "      <td>...</td>\n",
       "      <td>5500.000000</td>\n",
       "      <td>140</td>\n",
       "      <td>4000</td>\n",
       "      <td>19-04-2012 0.00</td>\n",
       "      <td>Q2 2012</td>\n",
       "      <td>173.71</td>\n",
       "      <td>311.38</td>\n",
       "      <td>10</td>\n",
       "      <td>3</td>\n",
       "      <td>3</td>\n",
       "    </tr>\n",
       "    <tr>\n",
       "      <th>23</th>\n",
       "      <td>2013-04-22 13:29:19.073000000</td>\n",
       "      <td>36</td>\n",
       "      <td>Defaulted</td>\n",
       "      <td>26-12-2013 0.00</td>\n",
       "      <td>0.28032</td>\n",
       "      <td>0.2419</td>\n",
       "      <td>0.2319</td>\n",
       "      <td>D</td>\n",
       "      <td>5.0</td>\n",
       "      <td>15</td>\n",
       "      <td>...</td>\n",
       "      <td>2500.000000</td>\n",
       "      <td>193</td>\n",
       "      <td>2000</td>\n",
       "      <td>26-04-2013 0.00</td>\n",
       "      <td>Q2 2013</td>\n",
       "      <td>78.67</td>\n",
       "      <td>118.28</td>\n",
       "      <td>30</td>\n",
       "      <td>3</td>\n",
       "      <td>0</td>\n",
       "    </tr>\n",
       "    <tr>\n",
       "      <th>26</th>\n",
       "      <td>2013-02-12 18:07:31.690000000</td>\n",
       "      <td>60</td>\n",
       "      <td>Completed</td>\n",
       "      <td>22-10-2013 0.00</td>\n",
       "      <td>0.30748</td>\n",
       "      <td>0.2809</td>\n",
       "      <td>0.2709</td>\n",
       "      <td>E</td>\n",
       "      <td>3.0</td>\n",
       "      <td>1</td>\n",
       "      <td>...</td>\n",
       "      <td>3885.916667</td>\n",
       "      <td>0</td>\n",
       "      <td>4000</td>\n",
       "      <td>21-02-2013 0.00</td>\n",
       "      <td>Q1 2013</td>\n",
       "      <td>124.76</td>\n",
       "      <td>725.35</td>\n",
       "      <td>37</td>\n",
       "      <td>1</td>\n",
       "      <td>0</td>\n",
       "    </tr>\n",
       "    <tr>\n",
       "      <th>27</th>\n",
       "      <td>2010-06-16 16:23:44.533000000</td>\n",
       "      <td>36</td>\n",
       "      <td>Completed</td>\n",
       "      <td>03-07-2013 0.00</td>\n",
       "      <td>0.11296</td>\n",
       "      <td>0.0920</td>\n",
       "      <td>0.0820</td>\n",
       "      <td>A</td>\n",
       "      <td>9.0</td>\n",
       "      <td>1</td>\n",
       "      <td>...</td>\n",
       "      <td>6666.666667</td>\n",
       "      <td>0</td>\n",
       "      <td>4000</td>\n",
       "      <td>24-06-2010 0.00</td>\n",
       "      <td>Q2 2010</td>\n",
       "      <td>0.00</td>\n",
       "      <td>594.48</td>\n",
       "      <td>121</td>\n",
       "      <td>1</td>\n",
       "      <td>1</td>\n",
       "    </tr>\n",
       "    <tr>\n",
       "      <th>30</th>\n",
       "      <td>2012-01-30 17:59:17.200000000</td>\n",
       "      <td>36</td>\n",
       "      <td>Completed</td>\n",
       "      <td>19-12-2012 0.00</td>\n",
       "      <td>0.12782</td>\n",
       "      <td>0.0999</td>\n",
       "      <td>0.0899</td>\n",
       "      <td>A</td>\n",
       "      <td>9.0</td>\n",
       "      <td>20</td>\n",
       "      <td>...</td>\n",
       "      <td>3750.000000</td>\n",
       "      <td>0</td>\n",
       "      <td>10000</td>\n",
       "      <td>07-02-2012 0.00</td>\n",
       "      <td>Q1 2012</td>\n",
       "      <td>322.62</td>\n",
       "      <td>686.32</td>\n",
       "      <td>30</td>\n",
       "      <td>1</td>\n",
       "      <td>0</td>\n",
       "    </tr>\n",
       "  </tbody>\n",
       "</table>\n",
       "<p>5 rows × 24 columns</p>\n",
       "</div>"
      ],
      "text/plain": [
       "              ListingCreationDate  Term LoanStatus       ClosedDate  \\\n",
       "15  2012-04-10 09:14:46.297000000    36  Defaulted  19-12-2012 0.00   \n",
       "23  2013-04-22 13:29:19.073000000    36  Defaulted  26-12-2013 0.00   \n",
       "26  2013-02-12 18:07:31.690000000    60  Completed  22-10-2013 0.00   \n",
       "27  2010-06-16 16:23:44.533000000    36  Completed  03-07-2013 0.00   \n",
       "30  2012-01-30 17:59:17.200000000    36  Completed  19-12-2012 0.00   \n",
       "\n",
       "    BorrowerAPR  BorrowerRate  LenderYield ProsperRating (Alpha)  \\\n",
       "15      0.35797        0.3177       0.3077                    HR   \n",
       "23      0.28032        0.2419       0.2319                     D   \n",
       "26      0.30748        0.2809       0.2709                     E   \n",
       "27      0.11296        0.0920       0.0820                     A   \n",
       "30      0.12782        0.0999       0.0899                     A   \n",
       "\n",
       "    ProsperScore  ListingCategory (numeric)  ... StatedMonthlyIncome  \\\n",
       "15           5.0                         13  ...         5500.000000   \n",
       "23           5.0                         15  ...         2500.000000   \n",
       "26           3.0                          1  ...         3885.916667   \n",
       "27           9.0                          1  ...         6666.666667   \n",
       "30           9.0                         20  ...         3750.000000   \n",
       "\n",
       "   LoanCurrentDaysDelinquent LoanOriginalAmount  LoanOriginationDate  \\\n",
       "15                       140               4000      19-04-2012 0.00   \n",
       "23                       193               2000      26-04-2013 0.00   \n",
       "26                         0               4000      21-02-2013 0.00   \n",
       "27                         0               4000      24-06-2010 0.00   \n",
       "30                         0              10000      07-02-2012 0.00   \n",
       "\n",
       "    LoanOriginationQuarter  MonthlyLoanPayment  LP_InterestandFees Investors  \\\n",
       "15                 Q2 2012              173.71              311.38        10   \n",
       "23                 Q2 2013               78.67              118.28        30   \n",
       "26                 Q1 2013              124.76              725.35        37   \n",
       "27                 Q2 2010                0.00              594.48       121   \n",
       "30                 Q1 2012              322.62              686.32        30   \n",
       "\n",
       "   Loan  Employement  \n",
       "15    3            3  \n",
       "23    3            0  \n",
       "26    1            0  \n",
       "27    1            1  \n",
       "30    1            0  \n",
       "\n",
       "[5 rows x 24 columns]"
      ]
     },
     "execution_count": 109,
     "metadata": {},
     "output_type": "execute_result"
    }
   ],
   "source": [
    "df1.dropna(subset=['LoanStatus'],inplace=True) \n",
    "df1.head(5)"
   ]
  },
  {
   "cell_type": "markdown",
   "metadata": {},
   "source": [
    "### B PART "
   ]
  },
  {
   "cell_type": "code",
   "execution_count": 110,
   "metadata": {},
   "outputs": [],
   "source": [
    "categories ={1: 'Debt Consolidation', 2: 'Home Improvement', 3: 'Business', 6: 'Auto', 7: 'Other'}\n",
    "\n",
    "def cat (a):\n",
    "    if a in categories.keys():\n",
    "        return(categories[a])"
   ]
  },
  {
   "cell_type": "code",
   "execution_count": 111,
   "metadata": {},
   "outputs": [
    {
     "data": {
      "text/plain": [
       "Debt Consolidation    106\n",
       "Other                  37\n",
       "Business               25\n",
       "Home Improvement       22\n",
       "Auto                    9\n",
       "Name: ListingCategory (numeric), dtype: int64"
      ]
     },
     "execution_count": 111,
     "metadata": {},
     "output_type": "execute_result"
    }
   ],
   "source": [
    "df1['ListingCategory (numeric)'] = df1.apply(lambda x: cat(x['ListingCategory (numeric)']) , axis=1)\n",
    "df1['ListingCategory (numeric)'].value_counts()"
   ]
  },
  {
   "cell_type": "markdown",
   "metadata": {},
   "source": [
    ">###  PART C. Display the box plot for `ProsperRating (Alpha)` vs `LoanOriginalAmount` and hue = `Loan Status`[Completed,Defaulted]. Write your observations.\n"
   ]
  },
  {
   "cell_type": "code",
   "execution_count": 74,
   "metadata": {},
   "outputs": [
    {
     "data": {
      "image/png": "[encoded data removed]",
      "text/plain": [
       "<Figure size 1080x576 with 1 Axes>"
      ]
     },
     "metadata": {
      "needs_background": "light"
     },
     "output_type": "display_data"
    }
   ],
   "source": [
    "plt.figure(figsize=(15,8))\n",
    "sns.boxplot('ProsperRating (Alpha)','LoanOriginalAmount',hue='LoanStatus',data=df1)\n",
    "plt.title(\"PROSPER RATING VS LOAN ORGINAL AMOUNT VS LOAN STATUS\")\n",
    "plt.show()\n",
    "\n"
   ]
  },
  {
   "cell_type": "markdown",
   "metadata": {},
   "source": [
    ">#### OBSERVATIONS: Here the data is unevenly distributed and there are some detectable outliers present in the data\n",
    ">#### In ProsperRating A, B HR are fully paid by Completed loan status entries\n",
    ">#### In ProsperRating AA,C , D ,E are paid combined with completed and deafulted status entries \n",
    ">#### For prosperrating of A and C have completed loan status and have outliers beyond upper whisker\n",
    ">#### For Prosperrating HR outliers are present below lower whisker of Defaulted loan status.\n",
    ">#### The defaulted loan amount for prosperityRating(Alpha) of A,B and HR are null.\n",
    ">#### The completed loan amount for prosperityRating(Alpha) of AA,C , D ,E are null\n",
    ">#### Majority of the completed loanamount lie between 5000 to 15000.\n"
   ]
  },
  {
   "cell_type": "markdown",
   "metadata": {},
   "source": [
    ">### PART D. Display the catplot for `ProsperRating (Alpha)` vs `ListingCategory (numeric)`[Debt Consolidation,Other,Business,Home Improvement,Auto] and hue = `Loan Status`[Completed,Defaulted]. Write your observations."
   ]
  },
  {
   "cell_type": "code",
   "execution_count": 161,
   "metadata": {},
   "outputs": [
    {
     "data": {
      "text/plain": [
       "<seaborn.axisgrid.FacetGrid at 0x206c264d9a0>"
      ]
     },
     "execution_count": 161,
     "metadata": {},
     "output_type": "execute_result"
    },
    {
     "data": {
      "text/plain": [
       "<Figure size 518400x259200 with 0 Axes>"
      ]
     },
     "metadata": {},
     "output_type": "display_data"
    },
    {
     "data": {
      "image/png": "[encoded data removed]",
      "text/plain": [
       "<Figure size 1893.1x360 with 5 Axes>"
      ]
     },
     "metadata": {},
     "output_type": "display_data"
    }
   ],
   "source": [
    "plt.figure(figsize=(7200,3600))\n",
    "sns.catplot( data =df1,kind=\"count\", x='ProsperRating (Alpha)',col='ListingCategory (numeric)' , hue = 'LoanStatus',palette='BuGn_r',n_boot=1000)"
   ]
  },
  {
   "cell_type": "markdown",
   "metadata": {},
   "source": [
    ">#### Observations\n",
    ">####  The data count for listing category  completed numeric (Debt Consolidation) of ProsperRating (alpha) A and E are very high (~16) ie E > A and the lowest are HR AND AA.\n",
    ">#### The data count for ProsperRating (alpha) completed listing category numeric (Other) of  D is (~15) and the lowest id B < 2\n",
    ">#### The data count for ProsperRating (alpha) defaulted listing category numeric (Auto) of  A,AA,B,C and HR are null\n",
    ">#### The data countthe count for defaulted listing category numeric (Buisness) of ProsperRating (alpha) A,AA,B are Zero.\n",
    "\n",
    ">#### The data count of ProsperRating (alpha) for both deafulted and completed for listing category numeric ( auto) and (business) are null for A AND C respectively\n",
    "\n",
    ">#### the count for defaulted and completed loanstatus of listing category numeric (Buisness) of ProsperRating (alpha) C are Zero.\n",
    ">#### the count for defaulted listing category numeric (Home Improvement) of ProsperRating (alpha) A,AA,B,C are Zero.\n",
    ">#### and the count for completed listing category numeric (Home Improvement) of ProsperRating (alpha) E is Zero."
   ]
  },
  {
   "cell_type": "code",
   "execution_count": null,
   "metadata": {},
   "outputs": [],
   "source": []
  },
  {
   "cell_type": "code",
   "execution_count": null,
   "metadata": {},
   "outputs": [],
   "source": []
  }
 ],
 "metadata": {
  "kernelspec": {
   "display_name": "Python 3 (ipykernel)",
   "language": "python",
   "name": "python3"
  },
  "language_info": {
   "codemirror_mode": {
    "name": "ipython",
    "version": 3
   },
   "file_extension": ".py",
   "mimetype": "text/x-python",
   "name": "python",
   "nbconvert_exporter": "python",
   "pygments_lexer": "ipython3",
   "version": "3.9.7"
  }
 },
 "nbformat": 4,
 "nbformat_minor": 4
}
